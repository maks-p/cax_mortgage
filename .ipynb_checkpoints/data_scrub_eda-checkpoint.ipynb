{
 "cells": [
  {
   "cell_type": "code",
   "execution_count": 27,
   "metadata": {},
   "outputs": [],
   "source": [
    "import pandas as pd\n",
    "import numpy as np\n",
    "import matplotlib.pyplot as plt\n",
    "import seaborn as sns"
   ]
  },
  {
   "cell_type": "code",
   "execution_count": 28,
   "metadata": {},
   "outputs": [],
   "source": [
    "sns.set_style(\"ticks\")\n",
    "sns.set_palette('muted')"
   ]
  },
  {
   "cell_type": "code",
   "execution_count": 29,
   "metadata": {},
   "outputs": [],
   "source": [
    "data = pd.read_csv('CAX_MortgageModeling_Train.csv')\n",
    "dfx = pd.DataFrame(data)"
   ]
  },
  {
   "cell_type": "code",
   "execution_count": 30,
   "metadata": {},
   "outputs": [
    {
     "data": {
      "text/plain": [
       "FUNDED        36023\n",
       "NOT FUNDED     9619\n",
       "Name: RESULT, dtype: int64"
      ]
     },
     "execution_count": 30,
     "metadata": {},
     "output_type": "execute_result"
    }
   ],
   "source": [
    "dfx['RESULT'].value_counts()"
   ]
  },
  {
   "cell_type": "code",
   "execution_count": 31,
   "metadata": {},
   "outputs": [],
   "source": [
    "#Cleaning Function\n",
    "def clean_data(df):\n",
    "    \n",
    "    df.set_index('Unique_ID', inplace=True)\n",
    "    df.drop(['MORTGAGE NUMBER'], axis=1, inplace=True)\n",
    "    df['LTV'] = df['MORTGAGE AMOUNT'] / df['PROPERTY VALUE'] * 100\n",
    "    \n",
    "    df['AMORTIZATION'] = df['AMORTIZATION']\n",
    "    \n",
    "    df_temp = df['FSA'].str.split('', n=3, expand=True)\n",
    "    df_temp[2] = df_temp[2].astype(int)\n",
    "    \n",
    "    df_temp['URBAN'] = np.where(df_temp[2] > 0, 1, 0)\n",
    "    \n",
    "    df_temp.drop([0, 2, 3], axis=1, inplace=True)\n",
    "    df_temp.rename(columns={1: 'TERRITORY'}, inplace=True)\n",
    "    \n",
    "    df = pd.concat([df, df_temp], axis=1)\n",
    "    df.drop(['FSA'], axis=1, inplace=True)\n",
    "    \n",
    "    return df\n",
    "\n",
    "df = clean_data(dfx)"
   ]
  },
  {
   "cell_type": "code",
   "execution_count": 32,
   "metadata": {},
   "outputs": [
    {
     "data": {
      "text/plain": [
       "FUNDED        35809\n",
       "NOT FUNDED     9506\n",
       "Name: RESULT, dtype: int64"
      ]
     },
     "execution_count": 32,
     "metadata": {},
     "output_type": "execute_result"
    }
   ],
   "source": [
    "from scipy.stats import zscore\n",
    "\n",
    "z_thresh = 5\n",
    "\n",
    "def remove_outliers(df):\n",
    "    \n",
    "    df['mortgage_amt_z'] = zscore(df['MORTGAGE AMOUNT'])\n",
    "    df['property_val_z'] = zscore(df['PROPERTY VALUE'])\n",
    "    \n",
    "    df = df[(df['property_val_z'] <= z_thresh) & (df['mortgage_amt_z'] <= z_thresh)]\n",
    "    df = df.drop(['mortgage_amt_z', 'property_val_z'], axis=1)\n",
    "    \n",
    "    #df = df[(df['RATE'] < 7.5) & (df['RATE'] > 3.5)]\n",
    "    \n",
    "    return df\n",
    "\n",
    "df = remove_outliers(df)\n",
    "df['RESULT'].value_counts()"
   ]
  },
  {
   "cell_type": "code",
   "execution_count": 33,
   "metadata": {},
   "outputs": [
    {
     "data": {
      "text/plain": [
       "RESULT\n",
       "FUNDED        860\n",
       "NOT FUNDED    309\n",
       "Name: CREDIT SCORE, dtype: int64"
      ]
     },
     "execution_count": 33,
     "metadata": {},
     "output_type": "execute_result"
    }
   ],
   "source": [
    "# Some Credit Scores are Zero - May be Encoding something (No Credit?)\n",
    "df[df['CREDIT SCORE'] == 0].groupby('RESULT')['CREDIT SCORE'].count()"
   ]
  },
  {
   "cell_type": "code",
   "execution_count": 34,
   "metadata": {},
   "outputs": [
    {
     "data": {
      "text/plain": [
       "FUNDED        35809\n",
       "NOT FUNDED     9506\n",
       "Name: RESULT, dtype: int64"
      ]
     },
     "execution_count": 34,
     "metadata": {},
     "output_type": "execute_result"
    }
   ],
   "source": [
    "# Check degree of Imbalance\n",
    "df['RESULT'].value_counts()"
   ]
  },
  {
   "cell_type": "code",
   "execution_count": 35,
   "metadata": {},
   "outputs": [
    {
     "data": {
      "text/html": [
       "<div>\n",
       "<style scoped>\n",
       "    .dataframe tbody tr th:only-of-type {\n",
       "        vertical-align: middle;\n",
       "    }\n",
       "\n",
       "    .dataframe tbody tr th {\n",
       "        vertical-align: top;\n",
       "    }\n",
       "\n",
       "    .dataframe thead th {\n",
       "        text-align: right;\n",
       "    }\n",
       "</style>\n",
       "<table border=\"1\" class=\"dataframe\">\n",
       "  <thead>\n",
       "    <tr style=\"text-align: right;\">\n",
       "      <th></th>\n",
       "      <th></th>\n",
       "      <th>PROPERTY VALUE</th>\n",
       "      <th>MORTGAGE PAYMENT</th>\n",
       "      <th>GDS</th>\n",
       "      <th>LTV</th>\n",
       "      <th>TDS</th>\n",
       "      <th>AMORTIZATION</th>\n",
       "      <th>MORTGAGE AMOUNT</th>\n",
       "      <th>RATE</th>\n",
       "      <th>TERM</th>\n",
       "      <th>INCOME</th>\n",
       "      <th>INCOME TYPE</th>\n",
       "      <th>CREDIT SCORE</th>\n",
       "      <th>URBAN</th>\n",
       "    </tr>\n",
       "    <tr>\n",
       "      <th>RESULT</th>\n",
       "      <th>MORTGAGE PURPOSE</th>\n",
       "      <th></th>\n",
       "      <th></th>\n",
       "      <th></th>\n",
       "      <th></th>\n",
       "      <th></th>\n",
       "      <th></th>\n",
       "      <th></th>\n",
       "      <th></th>\n",
       "      <th></th>\n",
       "      <th></th>\n",
       "      <th></th>\n",
       "      <th></th>\n",
       "      <th></th>\n",
       "    </tr>\n",
       "  </thead>\n",
       "  <tbody>\n",
       "    <tr>\n",
       "      <th rowspan=\"2\" valign=\"top\">FUNDED</th>\n",
       "      <th>Purchase</th>\n",
       "      <td>547796.335832</td>\n",
       "      <td>2300.985750</td>\n",
       "      <td>392.673838</td>\n",
       "      <td>75.990401</td>\n",
       "      <td>831.218672</td>\n",
       "      <td>357.104414</td>\n",
       "      <td>414458.994516</td>\n",
       "      <td>4.508031</td>\n",
       "      <td>14.650415</td>\n",
       "      <td>130759.346606</td>\n",
       "      <td>5.417457</td>\n",
       "      <td>686.055062</td>\n",
       "      <td>0.958195</td>\n",
       "    </tr>\n",
       "    <tr>\n",
       "      <th>Refinance</th>\n",
       "      <td>547071.227981</td>\n",
       "      <td>2191.832078</td>\n",
       "      <td>99.427099</td>\n",
       "      <td>73.246780</td>\n",
       "      <td>107.790668</td>\n",
       "      <td>353.252489</td>\n",
       "      <td>388775.880296</td>\n",
       "      <td>4.766052</td>\n",
       "      <td>16.273296</td>\n",
       "      <td>109713.683942</td>\n",
       "      <td>5.145456</td>\n",
       "      <td>634.545571</td>\n",
       "      <td>0.951111</td>\n",
       "    </tr>\n",
       "    <tr>\n",
       "      <th rowspan=\"2\" valign=\"top\">NOT FUNDED</th>\n",
       "      <th>Purchase</th>\n",
       "      <td>627452.209414</td>\n",
       "      <td>2625.699808</td>\n",
       "      <td>26.545824</td>\n",
       "      <td>75.463438</td>\n",
       "      <td>38.449152</td>\n",
       "      <td>356.224784</td>\n",
       "      <td>464893.553629</td>\n",
       "      <td>4.584054</td>\n",
       "      <td>14.703170</td>\n",
       "      <td>135146.733910</td>\n",
       "      <td>5.304275</td>\n",
       "      <td>688.144092</td>\n",
       "      <td>0.955091</td>\n",
       "    </tr>\n",
       "    <tr>\n",
       "      <th>Refinance</th>\n",
       "      <td>610505.054287</td>\n",
       "      <td>2520.467615</td>\n",
       "      <td>29.917973</td>\n",
       "      <td>74.100459</td>\n",
       "      <td>40.041569</td>\n",
       "      <td>353.743916</td>\n",
       "      <td>434348.701136</td>\n",
       "      <td>4.881786</td>\n",
       "      <td>15.353800</td>\n",
       "      <td>116749.157619</td>\n",
       "      <td>5.310371</td>\n",
       "      <td>635.184388</td>\n",
       "      <td>0.937664</td>\n",
       "    </tr>\n",
       "  </tbody>\n",
       "</table>\n",
       "</div>"
      ],
      "text/plain": [
       "                             PROPERTY VALUE  MORTGAGE PAYMENT         GDS  \\\n",
       "RESULT     MORTGAGE PURPOSE                                                 \n",
       "FUNDED     Purchase           547796.335832       2300.985750  392.673838   \n",
       "           Refinance          547071.227981       2191.832078   99.427099   \n",
       "NOT FUNDED Purchase           627452.209414       2625.699808   26.545824   \n",
       "           Refinance          610505.054287       2520.467615   29.917973   \n",
       "\n",
       "                                   LTV         TDS  AMORTIZATION  \\\n",
       "RESULT     MORTGAGE PURPOSE                                        \n",
       "FUNDED     Purchase          75.990401  831.218672    357.104414   \n",
       "           Refinance         73.246780  107.790668    353.252489   \n",
       "NOT FUNDED Purchase          75.463438   38.449152    356.224784   \n",
       "           Refinance         74.100459   40.041569    353.743916   \n",
       "\n",
       "                             MORTGAGE AMOUNT      RATE       TERM  \\\n",
       "RESULT     MORTGAGE PURPOSE                                         \n",
       "FUNDED     Purchase            414458.994516  4.508031  14.650415   \n",
       "           Refinance           388775.880296  4.766052  16.273296   \n",
       "NOT FUNDED Purchase            464893.553629  4.584054  14.703170   \n",
       "           Refinance           434348.701136  4.881786  15.353800   \n",
       "\n",
       "                                    INCOME  INCOME TYPE  CREDIT SCORE  \\\n",
       "RESULT     MORTGAGE PURPOSE                                             \n",
       "FUNDED     Purchase          130759.346606     5.417457    686.055062   \n",
       "           Refinance         109713.683942     5.145456    634.545571   \n",
       "NOT FUNDED Purchase          135146.733910     5.304275    688.144092   \n",
       "           Refinance         116749.157619     5.310371    635.184388   \n",
       "\n",
       "                                URBAN  \n",
       "RESULT     MORTGAGE PURPOSE            \n",
       "FUNDED     Purchase          0.958195  \n",
       "           Refinance         0.951111  \n",
       "NOT FUNDED Purchase          0.955091  \n",
       "           Refinance         0.937664  "
      ]
     },
     "execution_count": 35,
     "metadata": {},
     "output_type": "execute_result"
    }
   ],
   "source": [
    "# Group by Result & Purpose\n",
    "df.groupby(['RESULT', 'MORTGAGE PURPOSE']).mean()"
   ]
  },
  {
   "cell_type": "code",
   "execution_count": 36,
   "metadata": {},
   "outputs": [
    {
     "data": {
      "text/plain": [
       "RATE   RESULT    \n",
       "2.50   FUNDED           1\n",
       "       NOT FUNDED       4\n",
       "2.75   NOT FUNDED       3\n",
       "3.00   NOT FUNDED      10\n",
       "3.25   FUNDED           1\n",
       "       NOT FUNDED       5\n",
       "3.50   FUNDED        1517\n",
       "       NOT FUNDED     185\n",
       "3.75   FUNDED        1004\n",
       "       NOT FUNDED     230\n",
       "4.00   FUNDED        5899\n",
       "       NOT FUNDED    1159\n",
       "4.25   FUNDED        5074\n",
       "       NOT FUNDED    1307\n",
       "4.50   FUNDED        5887\n",
       "       NOT FUNDED    1481\n",
       "4.75   FUNDED        3806\n",
       "       NOT FUNDED    1049\n",
       "5.00   FUNDED        7380\n",
       "       NOT FUNDED    2036\n",
       "5.25   FUNDED        1394\n",
       "       NOT FUNDED     539\n",
       "5.50   FUNDED        1939\n",
       "       NOT FUNDED     701\n",
       "5.75   FUNDED         335\n",
       "       NOT FUNDED     137\n",
       "6.00   FUNDED        1278\n",
       "       NOT FUNDED     530\n",
       "6.25   FUNDED          44\n",
       "       NOT FUNDED      32\n",
       "6.50   FUNDED          42\n",
       "       NOT FUNDED      18\n",
       "6.75   FUNDED           5\n",
       "       NOT FUNDED       1\n",
       "7.00   FUNDED          90\n",
       "       NOT FUNDED      55\n",
       "7.50   FUNDED           1\n",
       "7.75   FUNDED           1\n",
       "8.00   FUNDED          61\n",
       "       NOT FUNDED      12\n",
       "8.25   FUNDED           1\n",
       "8.50   FUNDED           3\n",
       "9.00   FUNDED          26\n",
       "       NOT FUNDED       3\n",
       "9.25   NOT FUNDED       1\n",
       "10.00  FUNDED          20\n",
       "       NOT FUNDED       8\n",
       "Name: RESULT, dtype: int64"
      ]
     },
     "execution_count": 36,
     "metadata": {},
     "output_type": "execute_result"
    }
   ],
   "source": [
    "# Group by Result & Purpose\n",
    "df.groupby(['RATE', 'RESULT'])['RESULT'].count()"
   ]
  },
  {
   "cell_type": "code",
   "execution_count": 37,
   "metadata": {},
   "outputs": [
    {
     "data": {
      "image/png": "[encoded data removed]",
      "text/plain": [
       "<Figure size 864x576 with 1 Axes>"
      ]
     },
     "metadata": {},
     "output_type": "display_data"
    }
   ],
   "source": [
    "plt.figure(figsize=(12,8))\n",
    "sns.distplot(df['RATE']);"
   ]
  },
  {
   "cell_type": "markdown",
   "metadata": {},
   "source": [
    "## EDA"
   ]
  },
  {
   "cell_type": "code",
   "execution_count": 38,
   "metadata": {},
   "outputs": [
    {
     "data": {
      "image/png": "[encoded data removed]",
      "text/plain": [
       "<Figure size 1152x864 with 2 Axes>"
      ]
     },
     "metadata": {},
     "output_type": "display_data"
    }
   ],
   "source": [
    "corr = df.corr()\n",
    "\n",
    "mask = np.zeros_like(corr, dtype=np.bool)\n",
    "mask[np.triu_indices_from(mask)] = True\n",
    "\n",
    "# Set up the matplotlib figure\n",
    "f, ax = plt.subplots(figsize=(16, 12))\n",
    "\n",
    "# Generate a custom diverging colormap\n",
    "cmap = sns.diverging_palette(220, 10, as_cmap=True)\n",
    "\n",
    "# Draw the heatmap with the mask and correct aspect ratio\n",
    "sns.heatmap(corr, mask=mask, cmap=cmap, vmax=1, vmin=-1, center=0,\n",
    "            square=True, linewidths=.5, cbar_kws={\"shrink\": .75});"
   ]
  },
  {
   "cell_type": "code",
   "execution_count": 39,
   "metadata": {},
   "outputs": [
    {
     "data": {
      "text/html": [
       "<div>\n",
       "<style scoped>\n",
       "    .dataframe tbody tr th:only-of-type {\n",
       "        vertical-align: middle;\n",
       "    }\n",
       "\n",
       "    .dataframe tbody tr th {\n",
       "        vertical-align: top;\n",
       "    }\n",
       "\n",
       "    .dataframe thead th {\n",
       "        text-align: right;\n",
       "    }\n",
       "</style>\n",
       "<table border=\"1\" class=\"dataframe\">\n",
       "  <thead>\n",
       "    <tr style=\"text-align: right;\">\n",
       "      <th></th>\n",
       "      <th>PROPERTY VALUE</th>\n",
       "      <th>MORTGAGE PAYMENT</th>\n",
       "      <th>GDS</th>\n",
       "      <th>LTV</th>\n",
       "      <th>TDS</th>\n",
       "      <th>AMORTIZATION</th>\n",
       "      <th>MORTGAGE AMOUNT</th>\n",
       "      <th>RATE</th>\n",
       "      <th>TERM</th>\n",
       "      <th>INCOME</th>\n",
       "      <th>INCOME TYPE</th>\n",
       "      <th>CREDIT SCORE</th>\n",
       "      <th>URBAN</th>\n",
       "    </tr>\n",
       "  </thead>\n",
       "  <tbody>\n",
       "    <tr>\n",
       "      <th>count</th>\n",
       "      <td>4.531500e+04</td>\n",
       "      <td>45315.000000</td>\n",
       "      <td>4.531500e+04</td>\n",
       "      <td>45315.000000</td>\n",
       "      <td>4.531500e+04</td>\n",
       "      <td>45315.000000</td>\n",
       "      <td>4.531500e+04</td>\n",
       "      <td>45315.000000</td>\n",
       "      <td>45315.000000</td>\n",
       "      <td>4.531500e+04</td>\n",
       "      <td>45315.000000</td>\n",
       "      <td>45315.000000</td>\n",
       "      <td>45315.000000</td>\n",
       "    </tr>\n",
       "    <tr>\n",
       "      <th>mean</th>\n",
       "      <td>5.622577e+05</td>\n",
       "      <td>2318.956880</td>\n",
       "      <td>2.148742e+02</td>\n",
       "      <td>74.770553</td>\n",
       "      <td>4.149717e+02</td>\n",
       "      <td>355.295597</td>\n",
       "      <td>4.125580e+05</td>\n",
       "      <td>4.648290</td>\n",
       "      <td>15.299305</td>\n",
       "      <td>1.222342e+05</td>\n",
       "      <td>5.300386</td>\n",
       "      <td>662.440296</td>\n",
       "      <td>0.953040</td>\n",
       "    </tr>\n",
       "    <tr>\n",
       "      <th>std</th>\n",
       "      <td>3.436133e+05</td>\n",
       "      <td>1376.717893</td>\n",
       "      <td>3.275519e+04</td>\n",
       "      <td>22.205539</td>\n",
       "      <td>6.449002e+04</td>\n",
       "      <td>18.044437</td>\n",
       "      <td>2.502989e+05</td>\n",
       "      <td>0.641648</td>\n",
       "      <td>7.457448</td>\n",
       "      <td>1.043664e+05</td>\n",
       "      <td>3.271427</td>\n",
       "      <td>132.852907</td>\n",
       "      <td>0.211556</td>\n",
       "    </tr>\n",
       "    <tr>\n",
       "      <th>min</th>\n",
       "      <td>1.400000e+04</td>\n",
       "      <td>141.000000</td>\n",
       "      <td>-3.704000e+01</td>\n",
       "      <td>3.521739</td>\n",
       "      <td>-1.070000e+01</td>\n",
       "      <td>60.000000</td>\n",
       "      <td>1.500000e+04</td>\n",
       "      <td>2.500000</td>\n",
       "      <td>6.000000</td>\n",
       "      <td>1.000000e+03</td>\n",
       "      <td>-1.000000</td>\n",
       "      <td>0.000000</td>\n",
       "      <td>0.000000</td>\n",
       "    </tr>\n",
       "    <tr>\n",
       "      <th>25%</th>\n",
       "      <td>3.380000e+05</td>\n",
       "      <td>1402.000000</td>\n",
       "      <td>1.978000e+01</td>\n",
       "      <td>66.666667</td>\n",
       "      <td>3.282000e+01</td>\n",
       "      <td>360.000000</td>\n",
       "      <td>2.450000e+05</td>\n",
       "      <td>4.250000</td>\n",
       "      <td>12.000000</td>\n",
       "      <td>6.800000e+04</td>\n",
       "      <td>2.000000</td>\n",
       "      <td>623.000000</td>\n",
       "      <td>1.000000</td>\n",
       "    </tr>\n",
       "    <tr>\n",
       "      <th>50%</th>\n",
       "      <td>4.750000e+05</td>\n",
       "      <td>2024.000000</td>\n",
       "      <td>2.917000e+01</td>\n",
       "      <td>75.048292</td>\n",
       "      <td>3.827000e+01</td>\n",
       "      <td>360.000000</td>\n",
       "      <td>3.560000e+05</td>\n",
       "      <td>4.500000</td>\n",
       "      <td>12.000000</td>\n",
       "      <td>9.700000e+04</td>\n",
       "      <td>6.000000</td>\n",
       "      <td>676.000000</td>\n",
       "      <td>1.000000</td>\n",
       "    </tr>\n",
       "    <tr>\n",
       "      <th>75%</th>\n",
       "      <td>6.800000e+05</td>\n",
       "      <td>2842.000000</td>\n",
       "      <td>3.583000e+01</td>\n",
       "      <td>80.000000</td>\n",
       "      <td>4.213000e+01</td>\n",
       "      <td>360.000000</td>\n",
       "      <td>5.080000e+05</td>\n",
       "      <td>5.000000</td>\n",
       "      <td>12.000000</td>\n",
       "      <td>1.440000e+05</td>\n",
       "      <td>8.000000</td>\n",
       "      <td>735.500000</td>\n",
       "      <td>1.000000</td>\n",
       "    </tr>\n",
       "    <tr>\n",
       "      <th>max</th>\n",
       "      <td>2.750000e+06</td>\n",
       "      <td>12129.000000</td>\n",
       "      <td>6.872300e+06</td>\n",
       "      <td>2285.714286</td>\n",
       "      <td>1.346256e+07</td>\n",
       "      <td>480.000000</td>\n",
       "      <td>1.921875e+06</td>\n",
       "      <td>10.000000</td>\n",
       "      <td>60.000000</td>\n",
       "      <td>3.430000e+06</td>\n",
       "      <td>20.000000</td>\n",
       "      <td>899.000000</td>\n",
       "      <td>1.000000</td>\n",
       "    </tr>\n",
       "  </tbody>\n",
       "</table>\n",
       "</div>"
      ],
      "text/plain": [
       "       PROPERTY VALUE  MORTGAGE PAYMENT           GDS           LTV  \\\n",
       "count    4.531500e+04      45315.000000  4.531500e+04  45315.000000   \n",
       "mean     5.622577e+05       2318.956880  2.148742e+02     74.770553   \n",
       "std      3.436133e+05       1376.717893  3.275519e+04     22.205539   \n",
       "min      1.400000e+04        141.000000 -3.704000e+01      3.521739   \n",
       "25%      3.380000e+05       1402.000000  1.978000e+01     66.666667   \n",
       "50%      4.750000e+05       2024.000000  2.917000e+01     75.048292   \n",
       "75%      6.800000e+05       2842.000000  3.583000e+01     80.000000   \n",
       "max      2.750000e+06      12129.000000  6.872300e+06   2285.714286   \n",
       "\n",
       "                TDS  AMORTIZATION  MORTGAGE AMOUNT          RATE  \\\n",
       "count  4.531500e+04  45315.000000     4.531500e+04  45315.000000   \n",
       "mean   4.149717e+02    355.295597     4.125580e+05      4.648290   \n",
       "std    6.449002e+04     18.044437     2.502989e+05      0.641648   \n",
       "min   -1.070000e+01     60.000000     1.500000e+04      2.500000   \n",
       "25%    3.282000e+01    360.000000     2.450000e+05      4.250000   \n",
       "50%    3.827000e+01    360.000000     3.560000e+05      4.500000   \n",
       "75%    4.213000e+01    360.000000     5.080000e+05      5.000000   \n",
       "max    1.346256e+07    480.000000     1.921875e+06     10.000000   \n",
       "\n",
       "               TERM        INCOME   INCOME TYPE  CREDIT SCORE         URBAN  \n",
       "count  45315.000000  4.531500e+04  45315.000000  45315.000000  45315.000000  \n",
       "mean      15.299305  1.222342e+05      5.300386    662.440296      0.953040  \n",
       "std        7.457448  1.043664e+05      3.271427    132.852907      0.211556  \n",
       "min        6.000000  1.000000e+03     -1.000000      0.000000      0.000000  \n",
       "25%       12.000000  6.800000e+04      2.000000    623.000000      1.000000  \n",
       "50%       12.000000  9.700000e+04      6.000000    676.000000      1.000000  \n",
       "75%       12.000000  1.440000e+05      8.000000    735.500000      1.000000  \n",
       "max       60.000000  3.430000e+06     20.000000    899.000000      1.000000  "
      ]
     },
     "execution_count": 39,
     "metadata": {},
     "output_type": "execute_result"
    }
   ],
   "source": [
    "df.describe()"
   ]
  },
  {
   "cell_type": "code",
   "execution_count": 40,
   "metadata": {},
   "outputs": [
    {
     "data": {
      "text/html": [
       "<div>\n",
       "<style scoped>\n",
       "    .dataframe tbody tr th:only-of-type {\n",
       "        vertical-align: middle;\n",
       "    }\n",
       "\n",
       "    .dataframe tbody tr th {\n",
       "        vertical-align: top;\n",
       "    }\n",
       "\n",
       "    .dataframe thead th {\n",
       "        text-align: right;\n",
       "    }\n",
       "</style>\n",
       "<table border=\"1\" class=\"dataframe\">\n",
       "  <thead>\n",
       "    <tr style=\"text-align: right;\">\n",
       "      <th></th>\n",
       "      <th>PROPERTY VALUE</th>\n",
       "      <th>MORTGAGE PAYMENT</th>\n",
       "      <th>GDS</th>\n",
       "      <th>LTV</th>\n",
       "      <th>TDS</th>\n",
       "      <th>AMORTIZATION</th>\n",
       "      <th>MORTGAGE AMOUNT</th>\n",
       "      <th>RATE</th>\n",
       "      <th>TERM</th>\n",
       "      <th>INCOME</th>\n",
       "      <th>INCOME TYPE</th>\n",
       "      <th>CREDIT SCORE</th>\n",
       "      <th>URBAN</th>\n",
       "    </tr>\n",
       "  </thead>\n",
       "  <tbody>\n",
       "    <tr>\n",
       "      <th>PROPERTY VALUE</th>\n",
       "      <td>1.000000</td>\n",
       "      <td>0.876923</td>\n",
       "      <td>0.016124</td>\n",
       "      <td>-0.102821</td>\n",
       "      <td>0.015903</td>\n",
       "      <td>0.129435</td>\n",
       "      <td>0.901484</td>\n",
       "      <td>-0.112717</td>\n",
       "      <td>-0.069293</td>\n",
       "      <td>0.445155</td>\n",
       "      <td>0.172236</td>\n",
       "      <td>0.119297</td>\n",
       "      <td>0.053981</td>\n",
       "    </tr>\n",
       "    <tr>\n",
       "      <th>MORTGAGE PAYMENT</th>\n",
       "      <td>0.876923</td>\n",
       "      <td>1.000000</td>\n",
       "      <td>0.010075</td>\n",
       "      <td>0.156479</td>\n",
       "      <td>0.009785</td>\n",
       "      <td>0.125927</td>\n",
       "      <td>0.950009</td>\n",
       "      <td>-0.061536</td>\n",
       "      <td>-0.078594</td>\n",
       "      <td>0.485186</td>\n",
       "      <td>0.174555</td>\n",
       "      <td>0.108876</td>\n",
       "      <td>0.071603</td>\n",
       "    </tr>\n",
       "    <tr>\n",
       "      <th>GDS</th>\n",
       "      <td>0.016124</td>\n",
       "      <td>0.010075</td>\n",
       "      <td>1.000000</td>\n",
       "      <td>-0.005129</td>\n",
       "      <td>0.990829</td>\n",
       "      <td>0.001501</td>\n",
       "      <td>0.007273</td>\n",
       "      <td>0.003635</td>\n",
       "      <td>-0.002532</td>\n",
       "      <td>-0.005916</td>\n",
       "      <td>0.001823</td>\n",
       "      <td>0.000996</td>\n",
       "      <td>0.001266</td>\n",
       "    </tr>\n",
       "    <tr>\n",
       "      <th>LTV</th>\n",
       "      <td>-0.102821</td>\n",
       "      <td>0.156479</td>\n",
       "      <td>-0.005129</td>\n",
       "      <td>1.000000</td>\n",
       "      <td>-0.005516</td>\n",
       "      <td>0.088597</td>\n",
       "      <td>0.202021</td>\n",
       "      <td>-0.103399</td>\n",
       "      <td>0.006404</td>\n",
       "      <td>0.097523</td>\n",
       "      <td>0.011840</td>\n",
       "      <td>0.063650</td>\n",
       "      <td>0.070509</td>\n",
       "    </tr>\n",
       "    <tr>\n",
       "      <th>TDS</th>\n",
       "      <td>0.015903</td>\n",
       "      <td>0.009785</td>\n",
       "      <td>0.990829</td>\n",
       "      <td>-0.005516</td>\n",
       "      <td>1.000000</td>\n",
       "      <td>0.001534</td>\n",
       "      <td>0.006980</td>\n",
       "      <td>0.004524</td>\n",
       "      <td>-0.002591</td>\n",
       "      <td>-0.005365</td>\n",
       "      <td>0.001995</td>\n",
       "      <td>0.001565</td>\n",
       "      <td>0.001293</td>\n",
       "    </tr>\n",
       "    <tr>\n",
       "      <th>AMORTIZATION</th>\n",
       "      <td>0.129435</td>\n",
       "      <td>0.125927</td>\n",
       "      <td>0.001501</td>\n",
       "      <td>0.088597</td>\n",
       "      <td>0.001534</td>\n",
       "      <td>1.000000</td>\n",
       "      <td>0.164561</td>\n",
       "      <td>-0.146111</td>\n",
       "      <td>-0.035321</td>\n",
       "      <td>0.058676</td>\n",
       "      <td>0.027775</td>\n",
       "      <td>0.070806</td>\n",
       "      <td>0.043756</td>\n",
       "    </tr>\n",
       "    <tr>\n",
       "      <th>MORTGAGE AMOUNT</th>\n",
       "      <td>0.901484</td>\n",
       "      <td>0.950009</td>\n",
       "      <td>0.007273</td>\n",
       "      <td>0.202021</td>\n",
       "      <td>0.006980</td>\n",
       "      <td>0.164561</td>\n",
       "      <td>1.000000</td>\n",
       "      <td>-0.167516</td>\n",
       "      <td>-0.069633</td>\n",
       "      <td>0.496367</td>\n",
       "      <td>0.177662</td>\n",
       "      <td>0.142923</td>\n",
       "      <td>0.082845</td>\n",
       "    </tr>\n",
       "    <tr>\n",
       "      <th>RATE</th>\n",
       "      <td>-0.112717</td>\n",
       "      <td>-0.061536</td>\n",
       "      <td>0.003635</td>\n",
       "      <td>-0.103399</td>\n",
       "      <td>0.004524</td>\n",
       "      <td>-0.146111</td>\n",
       "      <td>-0.167516</td>\n",
       "      <td>1.000000</td>\n",
       "      <td>-0.004554</td>\n",
       "      <td>-0.037850</td>\n",
       "      <td>-0.060393</td>\n",
       "      <td>-0.268104</td>\n",
       "      <td>-0.109238</td>\n",
       "    </tr>\n",
       "    <tr>\n",
       "      <th>TERM</th>\n",
       "      <td>-0.069293</td>\n",
       "      <td>-0.078594</td>\n",
       "      <td>-0.002532</td>\n",
       "      <td>0.006404</td>\n",
       "      <td>-0.002591</td>\n",
       "      <td>-0.035321</td>\n",
       "      <td>-0.069633</td>\n",
       "      <td>-0.004554</td>\n",
       "      <td>1.000000</td>\n",
       "      <td>-0.044078</td>\n",
       "      <td>0.013216</td>\n",
       "      <td>-0.009197</td>\n",
       "      <td>-0.020885</td>\n",
       "    </tr>\n",
       "    <tr>\n",
       "      <th>INCOME</th>\n",
       "      <td>0.445155</td>\n",
       "      <td>0.485186</td>\n",
       "      <td>-0.005916</td>\n",
       "      <td>0.097523</td>\n",
       "      <td>-0.005365</td>\n",
       "      <td>0.058676</td>\n",
       "      <td>0.496367</td>\n",
       "      <td>-0.037850</td>\n",
       "      <td>-0.044078</td>\n",
       "      <td>1.000000</td>\n",
       "      <td>0.219405</td>\n",
       "      <td>0.097227</td>\n",
       "      <td>0.027393</td>\n",
       "    </tr>\n",
       "    <tr>\n",
       "      <th>INCOME TYPE</th>\n",
       "      <td>0.172236</td>\n",
       "      <td>0.174555</td>\n",
       "      <td>0.001823</td>\n",
       "      <td>0.011840</td>\n",
       "      <td>0.001995</td>\n",
       "      <td>0.027775</td>\n",
       "      <td>0.177662</td>\n",
       "      <td>-0.060393</td>\n",
       "      <td>0.013216</td>\n",
       "      <td>0.219405</td>\n",
       "      <td>1.000000</td>\n",
       "      <td>0.090447</td>\n",
       "      <td>-0.013417</td>\n",
       "    </tr>\n",
       "    <tr>\n",
       "      <th>CREDIT SCORE</th>\n",
       "      <td>0.119297</td>\n",
       "      <td>0.108876</td>\n",
       "      <td>0.000996</td>\n",
       "      <td>0.063650</td>\n",
       "      <td>0.001565</td>\n",
       "      <td>0.070806</td>\n",
       "      <td>0.142923</td>\n",
       "      <td>-0.268104</td>\n",
       "      <td>-0.009197</td>\n",
       "      <td>0.097227</td>\n",
       "      <td>0.090447</td>\n",
       "      <td>1.000000</td>\n",
       "      <td>0.038552</td>\n",
       "    </tr>\n",
       "    <tr>\n",
       "      <th>URBAN</th>\n",
       "      <td>0.053981</td>\n",
       "      <td>0.071603</td>\n",
       "      <td>0.001266</td>\n",
       "      <td>0.070509</td>\n",
       "      <td>0.001293</td>\n",
       "      <td>0.043756</td>\n",
       "      <td>0.082845</td>\n",
       "      <td>-0.109238</td>\n",
       "      <td>-0.020885</td>\n",
       "      <td>0.027393</td>\n",
       "      <td>-0.013417</td>\n",
       "      <td>0.038552</td>\n",
       "      <td>1.000000</td>\n",
       "    </tr>\n",
       "  </tbody>\n",
       "</table>\n",
       "</div>"
      ],
      "text/plain": [
       "                  PROPERTY VALUE  MORTGAGE PAYMENT       GDS       LTV  \\\n",
       "PROPERTY VALUE          1.000000          0.876923  0.016124 -0.102821   \n",
       "MORTGAGE PAYMENT        0.876923          1.000000  0.010075  0.156479   \n",
       "GDS                     0.016124          0.010075  1.000000 -0.005129   \n",
       "LTV                    -0.102821          0.156479 -0.005129  1.000000   \n",
       "TDS                     0.015903          0.009785  0.990829 -0.005516   \n",
       "AMORTIZATION            0.129435          0.125927  0.001501  0.088597   \n",
       "MORTGAGE AMOUNT         0.901484          0.950009  0.007273  0.202021   \n",
       "RATE                   -0.112717         -0.061536  0.003635 -0.103399   \n",
       "TERM                   -0.069293         -0.078594 -0.002532  0.006404   \n",
       "INCOME                  0.445155          0.485186 -0.005916  0.097523   \n",
       "INCOME TYPE             0.172236          0.174555  0.001823  0.011840   \n",
       "CREDIT SCORE            0.119297          0.108876  0.000996  0.063650   \n",
       "URBAN                   0.053981          0.071603  0.001266  0.070509   \n",
       "\n",
       "                       TDS  AMORTIZATION  MORTGAGE AMOUNT      RATE      TERM  \\\n",
       "PROPERTY VALUE    0.015903      0.129435         0.901484 -0.112717 -0.069293   \n",
       "MORTGAGE PAYMENT  0.009785      0.125927         0.950009 -0.061536 -0.078594   \n",
       "GDS               0.990829      0.001501         0.007273  0.003635 -0.002532   \n",
       "LTV              -0.005516      0.088597         0.202021 -0.103399  0.006404   \n",
       "TDS               1.000000      0.001534         0.006980  0.004524 -0.002591   \n",
       "AMORTIZATION      0.001534      1.000000         0.164561 -0.146111 -0.035321   \n",
       "MORTGAGE AMOUNT   0.006980      0.164561         1.000000 -0.167516 -0.069633   \n",
       "RATE              0.004524     -0.146111        -0.167516  1.000000 -0.004554   \n",
       "TERM             -0.002591     -0.035321        -0.069633 -0.004554  1.000000   \n",
       "INCOME           -0.005365      0.058676         0.496367 -0.037850 -0.044078   \n",
       "INCOME TYPE       0.001995      0.027775         0.177662 -0.060393  0.013216   \n",
       "CREDIT SCORE      0.001565      0.070806         0.142923 -0.268104 -0.009197   \n",
       "URBAN             0.001293      0.043756         0.082845 -0.109238 -0.020885   \n",
       "\n",
       "                    INCOME  INCOME TYPE  CREDIT SCORE     URBAN  \n",
       "PROPERTY VALUE    0.445155     0.172236      0.119297  0.053981  \n",
       "MORTGAGE PAYMENT  0.485186     0.174555      0.108876  0.071603  \n",
       "GDS              -0.005916     0.001823      0.000996  0.001266  \n",
       "LTV               0.097523     0.011840      0.063650  0.070509  \n",
       "TDS              -0.005365     0.001995      0.001565  0.001293  \n",
       "AMORTIZATION      0.058676     0.027775      0.070806  0.043756  \n",
       "MORTGAGE AMOUNT   0.496367     0.177662      0.142923  0.082845  \n",
       "RATE             -0.037850    -0.060393     -0.268104 -0.109238  \n",
       "TERM             -0.044078     0.013216     -0.009197 -0.020885  \n",
       "INCOME            1.000000     0.219405      0.097227  0.027393  \n",
       "INCOME TYPE       0.219405     1.000000      0.090447 -0.013417  \n",
       "CREDIT SCORE      0.097227     0.090447      1.000000  0.038552  \n",
       "URBAN             0.027393    -0.013417      0.038552  1.000000  "
      ]
     },
     "execution_count": 40,
     "metadata": {},
     "output_type": "execute_result"
    }
   ],
   "source": [
    "df.corr()"
   ]
  },
  {
   "cell_type": "code",
   "execution_count": 41,
   "metadata": {},
   "outputs": [],
   "source": [
    "#sns.pairplot(df);"
   ]
  },
  {
   "cell_type": "code",
   "execution_count": 42,
   "metadata": {},
   "outputs": [
    {
     "data": {
      "image/png": "[encoded data removed]",
      "text/plain": [
       "<Figure size 864x576 with 1 Axes>"
      ]
     },
     "metadata": {},
     "output_type": "display_data"
    }
   ],
   "source": [
    "plt.figure(figsize=(12,8))\n",
    "sns.countplot(df['AGE RANGE'], hue=df['RESULT'])\n",
    "plt.xticks(rotation=45);"
   ]
  },
  {
   "cell_type": "code",
   "execution_count": 43,
   "metadata": {},
   "outputs": [
    {
     "data": {
      "image/png": "[encoded data removed]",
      "text/plain": [
       "<Figure size 864x576 with 1 Axes>"
      ]
     },
     "metadata": {},
     "output_type": "display_data"
    }
   ],
   "source": [
    "plt.figure(figsize=(12,8))\n",
    "sns.countplot(df['PROPERTY TYPE'], hue=df['RESULT'])\n",
    "plt.xticks(rotation=45);"
   ]
  },
  {
   "cell_type": "code",
   "execution_count": 44,
   "metadata": {},
   "outputs": [
    {
     "data": {
      "image/png": "[encoded data removed]",
      "text/plain": [
       "<Figure size 864x576 with 1 Axes>"
      ]
     },
     "metadata": {},
     "output_type": "display_data"
    }
   ],
   "source": [
    "plt.figure(figsize=(12,8))\n",
    "sns.countplot(df['MORTGAGE PURPOSE'], hue=df['RESULT'])\n",
    "plt.xticks(rotation=45);"
   ]
  },
  {
   "cell_type": "code",
   "execution_count": 45,
   "metadata": {},
   "outputs": [
    {
     "data": {
      "image/png": "[encoded data removed]",
      "text/plain": [
       "<Figure size 864x576 with 1 Axes>"
      ]
     },
     "metadata": {},
     "output_type": "display_data"
    }
   ],
   "source": [
    "plt.figure(figsize=(12,8))\n",
    "sns.distplot(df['CREDIT SCORE']);"
   ]
  },
  {
   "cell_type": "code",
   "execution_count": 46,
   "metadata": {},
   "outputs": [
    {
     "data": {
      "image/png": "[encoded data removed]",
      "text/plain": [
       "<Figure size 864x576 with 1 Axes>"
      ]
     },
     "metadata": {},
     "output_type": "display_data"
    }
   ],
   "source": [
    "plt.figure(figsize=(12,8))\n",
    "sns.scatterplot(x=\"PROPERTY TYPE\", y=\"PROPERTY VALUE\", \n",
    "                hue = 'TERRITORY',\n",
    "                data=df)\n",
    "plt.xticks(rotation=45);"
   ]
  },
  {
   "cell_type": "code",
   "execution_count": 47,
   "metadata": {},
   "outputs": [
    {
     "data": {
      "text/plain": [
       "<Figure size 864x576 with 0 Axes>"
      ]
     },
     "execution_count": 47,
     "metadata": {},
     "output_type": "execute_result"
    },
    {
     "data": {
      "image/png": "[encoded data removed]",
      "text/plain": [
       "<Figure size 864x576 with 1 Axes>"
      ]
     },
     "metadata": {},
     "output_type": "display_data"
    }
   ],
   "source": [
    "plt.figure(figsize=(12,8))\n",
    "\n",
    "data = df\n",
    "x1 = df[df['CREDIT SCORE'] > 0]['CREDIT SCORE']\n",
    "y1 = df[df['CREDIT SCORE'] > 0]['RESULT']\n",
    "\n",
    "\n",
    "ax1 = sns.scatterplot(x=x1, y=y1,\n",
    "                data=data)"
   ]
  },
  {
   "cell_type": "code",
   "execution_count": 48,
   "metadata": {},
   "outputs": [
    {
     "data": {
      "text/plain": [
       "Index(['PROPERTY VALUE', 'MORTGAGE PAYMENT', 'GDS', 'LTV', 'TDS',\n",
       "       'AMORTIZATION', 'MORTGAGE AMOUNT', 'RATE', 'MORTGAGE PURPOSE',\n",
       "       'PAYMENT FREQUENCY', 'PROPERTY TYPE', 'TERM', 'AGE RANGE', 'GENDER',\n",
       "       'INCOME', 'INCOME TYPE', 'NAICS CODE', 'CREDIT SCORE', 'RESULT',\n",
       "       'TERRITORY', 'URBAN'],\n",
       "      dtype='object')"
      ]
     },
     "execution_count": 48,
     "metadata": {},
     "output_type": "execute_result"
    }
   ],
   "source": [
    "df.columns"
   ]
  },
  {
   "cell_type": "markdown",
   "metadata": {},
   "source": [
    "## ENCODING & FEATURE ENGINEERING"
   ]
  },
  {
   "cell_type": "code",
   "execution_count": 49,
   "metadata": {},
   "outputs": [],
   "source": [
    "from sklearn.preprocessing import LabelEncoder"
   ]
  },
  {
   "cell_type": "code",
   "execution_count": 50,
   "metadata": {},
   "outputs": [],
   "source": [
    " def add_features(df):\n",
    "        \n",
    "    constant = ((np.pmt(df['RATE'] / 100 / 12, df['AMORTIZATION'] / 12, -df['MORTGAGE AMOUNT'])) / df['MORTGAGE AMOUNT']) * 100 * 12\n",
    "    df['ZERO SCORE'] = np.where(df['CREDIT SCORE'] == 0, 1, 0)\n",
    "    df['CREDIT SCORE'] = df['CREDIT SCORE'].replace(0, np.mean(df['CREDIT SCORE']))\n",
    "    df['RATIO'] = (constant * df['MORTGAGE AMOUNT']) / df['INCOME']\n",
    "    \n",
    "    df['RATE_X_CREDIT_SCORE'] = df['RATE'] * df['CREDIT SCORE']\n",
    "    df['RATE_X_LTV'] = df['RATE'] * df['LTV']\n",
    "    \n",
    "    df['CREDIT_SCORE^2'] = df['CREDIT SCORE'] ** 2\n",
    "    df['INCOME^2'] = df['INCOME'] ** 2\n",
    "    \n",
    "    \n",
    "    #df = df.drop(['RATE'], axis=1)\n",
    "    #df.drop(['PAYMENT FREQUENCY'], axis=1, inplace=True)\n",
    "    \n",
    "    return df\n",
    "\n",
    "df = add_features(df)"
   ]
  },
  {
   "cell_type": "code",
   "execution_count": 51,
   "metadata": {},
   "outputs": [
    {
     "data": {
      "image/png": "[encoded data removed]",
      "text/plain": [
       "<Figure size 864x576 with 1 Axes>"
      ]
     },
     "metadata": {},
     "output_type": "display_data"
    }
   ],
   "source": [
    "plt.figure(figsize=(12,8))\n",
    "sns.distplot(df['CREDIT SCORE']);"
   ]
  },
  {
   "cell_type": "code",
   "execution_count": 52,
   "metadata": {},
   "outputs": [
    {
     "data": {
      "text/plain": [
       "Index(['PROPERTY VALUE', 'MORTGAGE PAYMENT', 'GDS', 'LTV', 'TDS',\n",
       "       'AMORTIZATION', 'MORTGAGE AMOUNT', 'RATE', 'MORTGAGE PURPOSE',\n",
       "       'PAYMENT FREQUENCY', 'PROPERTY TYPE', 'TERM', 'AGE RANGE', 'GENDER',\n",
       "       'INCOME', 'INCOME TYPE', 'NAICS CODE', 'CREDIT SCORE', 'RESULT',\n",
       "       'TERRITORY', 'URBAN', 'ZERO SCORE', 'RATIO', 'RATE_X_CREDIT_SCORE',\n",
       "       'RATE_X_LTV', 'CREDIT_SCORE^2', 'INCOME^2'],\n",
       "      dtype='object')"
      ]
     },
     "execution_count": 52,
     "metadata": {},
     "output_type": "execute_result"
    }
   ],
   "source": [
    "df.columns"
   ]
  },
  {
   "cell_type": "code",
   "execution_count": 53,
   "metadata": {},
   "outputs": [],
   "source": [
    "#features_to_encode = ['AGE RANGE', 'AMORTIZATION', 'MORTGAGE PURPOSE', 'PAYMENT FREQUENCY', 'GENDER']\n",
    "#features_to_dummy = ['NAICS CODE', 'PROPERTY TYPE', 'TERRITORY']\n",
    "\n",
    "columns_to_drop = ['MORTGAGE PAYMENT']\n",
    "drop_first = False\n",
    "\n",
    "def encode(df):\n",
    "    \n",
    "    #Encode Results\n",
    "    le_result = LabelEncoder()\n",
    "    df['RESULT'] = le_result.fit_transform(df['RESULT'])\n",
    "    df['RESULT'] = df['RESULT'].replace({0: 1, 1:0})\n",
    "    \n",
    "    # Encode Age Range\n",
    "    le_age_range = LabelEncoder()\n",
    "    df['AGE RANGE'] = le_age_range.fit_transform(df['AGE RANGE'])\n",
    "    df['AGE RANGE'] = df['AGE RANGE'].apply(lambda x: x + 1)\n",
    "    df['AGE RANGE'] = df['AGE RANGE'].replace({11:0})\n",
    "    \n",
    "    #Encode Mortgage Purpose\n",
    "    le_purpose = LabelEncoder()\n",
    "    df['MORTGAGE PURPOSE'] = le_purpose.fit_transform(df['MORTGAGE PURPOSE'])\n",
    "    \n",
    "    #Encode Payment Frequency\n",
    "    le_frequency = LabelEncoder()\n",
    "    df['PAYMENT FREQUENCY'] = le_frequency.fit_transform(df['PAYMENT FREQUENCY'])\n",
    "    \n",
    "    #Encode Gender\n",
    "    le_gender = LabelEncoder()\n",
    "    df['GENDER'] = le_gender.fit_transform(df['GENDER'])\n",
    "    \n",
    "    #Encode Territory\n",
    "    le_territory = LabelEncoder()\n",
    "    df['TERRITORY'] = le_territory.fit_transform(df['TERRITORY'])\n",
    "    df.drop(['TERRITORY'], axis=1, inplace=True)\n",
    "    \n",
    "    #NAICS Dummy Variables\n",
    "    df_temp = pd.get_dummies(df['NAICS CODE'], prefix='NAICS', drop_first=drop_first)\n",
    "    df = pd.concat([df, df_temp], axis=1)\n",
    "    df.drop(['NAICS CODE'], axis=1, inplace=True)\n",
    "    \n",
    "    #Property Type Dummy Variables\n",
    "    df_temp = pd.get_dummies(df['PROPERTY TYPE'], drop_first=drop_first)\n",
    "    df = pd.concat([df, df_temp], axis=1)\n",
    "    df.drop(['PROPERTY TYPE'], axis=1, inplace=True)\n",
    "    \n",
    "    #Amortization Dummy Variables\n",
    "    le_amortization = LabelEncoder()\n",
    "    df['AMORTIZATION'] = le_amortization.fit_transform(df['AMORTIZATION'])\n",
    "    \n",
    "    #Payment Frequency Dummy Variables\n",
    "    #df_temp = pd.get_dummies(df['PAYMENT FREQUENCY'], prefix='PMT_FREQ', drop_first=False)\n",
    "    #df = pd.concat([df, df_temp], axis=1)\n",
    "    #df.drop(['PAYMENT FREQUENCY'], axis=1, inplace=True)\n",
    "    \n",
    "    #Mortgage Purpose Dummies\n",
    "    #df_temp = pd.get_dummies(df['MORTGAGE PURPOSE'], drop_first=False)\n",
    "    #df = pd.concat([df, df_temp], axis=1)\n",
    "    #df.drop(['MORTGAGE PURPOSE'], axis=1, inplace=True)\n",
    "    \n",
    "    #Drop Columns\n",
    "    df.drop(columns_to_drop, axis=1, inplace=True)\n",
    "    \n",
    "    return df\n",
    "\n",
    "df = encode(df)"
   ]
  },
  {
   "cell_type": "code",
   "execution_count": 54,
   "metadata": {},
   "outputs": [
    {
     "data": {
      "text/html": [
       "<div>\n",
       "<style scoped>\n",
       "    .dataframe tbody tr th:only-of-type {\n",
       "        vertical-align: middle;\n",
       "    }\n",
       "\n",
       "    .dataframe tbody tr th {\n",
       "        vertical-align: top;\n",
       "    }\n",
       "\n",
       "    .dataframe thead th {\n",
       "        text-align: right;\n",
       "    }\n",
       "</style>\n",
       "<table border=\"1\" class=\"dataframe\">\n",
       "  <thead>\n",
       "    <tr style=\"text-align: right;\">\n",
       "      <th></th>\n",
       "      <th>PROPERTY VALUE</th>\n",
       "      <th>GDS</th>\n",
       "      <th>LTV</th>\n",
       "      <th>TDS</th>\n",
       "      <th>AMORTIZATION</th>\n",
       "      <th>MORTGAGE AMOUNT</th>\n",
       "      <th>RATE</th>\n",
       "      <th>MORTGAGE PURPOSE</th>\n",
       "      <th>PAYMENT FREQUENCY</th>\n",
       "      <th>TERM</th>\n",
       "      <th>...</th>\n",
       "      <th>NAICS_81</th>\n",
       "      <th>NAICS_92</th>\n",
       "      <th>Duplex</th>\n",
       "      <th>Fourplex</th>\n",
       "      <th>High Rise</th>\n",
       "      <th>Semi-Detached</th>\n",
       "      <th>Single Detached</th>\n",
       "      <th>Townhouse Condominium</th>\n",
       "      <th>Townhouse Freehold</th>\n",
       "      <th>Triplex</th>\n",
       "    </tr>\n",
       "  </thead>\n",
       "  <tbody>\n",
       "    <tr>\n",
       "      <th>PROPERTY VALUE</th>\n",
       "      <td>1.000000</td>\n",
       "      <td>0.016124</td>\n",
       "      <td>-0.102821</td>\n",
       "      <td>0.015903</td>\n",
       "      <td>0.129435</td>\n",
       "      <td>0.901484</td>\n",
       "      <td>-0.112717</td>\n",
       "      <td>0.002549</td>\n",
       "      <td>0.033045</td>\n",
       "      <td>-0.069293</td>\n",
       "      <td>...</td>\n",
       "      <td>-0.085875</td>\n",
       "      <td>-0.015337</td>\n",
       "      <td>-0.023663</td>\n",
       "      <td>0.020299</td>\n",
       "      <td>-0.202010</td>\n",
       "      <td>-0.065974</td>\n",
       "      <td>0.276201</td>\n",
       "      <td>-0.115163</td>\n",
       "      <td>-0.076477</td>\n",
       "      <td>0.008045</td>\n",
       "    </tr>\n",
       "    <tr>\n",
       "      <th>GDS</th>\n",
       "      <td>0.016124</td>\n",
       "      <td>1.000000</td>\n",
       "      <td>-0.005129</td>\n",
       "      <td>0.990829</td>\n",
       "      <td>0.001501</td>\n",
       "      <td>0.007273</td>\n",
       "      <td>0.003635</td>\n",
       "      <td>-0.003779</td>\n",
       "      <td>0.001409</td>\n",
       "      <td>-0.002532</td>\n",
       "      <td>...</td>\n",
       "      <td>0.014066</td>\n",
       "      <td>-0.000619</td>\n",
       "      <td>-0.000596</td>\n",
       "      <td>-0.000305</td>\n",
       "      <td>-0.001355</td>\n",
       "      <td>-0.001822</td>\n",
       "      <td>0.002148</td>\n",
       "      <td>-0.001319</td>\n",
       "      <td>0.001386</td>\n",
       "      <td>-0.000387</td>\n",
       "    </tr>\n",
       "    <tr>\n",
       "      <th>LTV</th>\n",
       "      <td>-0.102821</td>\n",
       "      <td>-0.005129</td>\n",
       "      <td>1.000000</td>\n",
       "      <td>-0.005516</td>\n",
       "      <td>0.088597</td>\n",
       "      <td>0.202021</td>\n",
       "      <td>-0.103399</td>\n",
       "      <td>-0.054713</td>\n",
       "      <td>0.004438</td>\n",
       "      <td>0.006404</td>\n",
       "      <td>...</td>\n",
       "      <td>-0.096103</td>\n",
       "      <td>0.001771</td>\n",
       "      <td>-0.016782</td>\n",
       "      <td>-0.010318</td>\n",
       "      <td>-0.028657</td>\n",
       "      <td>0.035093</td>\n",
       "      <td>-0.010719</td>\n",
       "      <td>-0.000383</td>\n",
       "      <td>0.029533</td>\n",
       "      <td>-0.007606</td>\n",
       "    </tr>\n",
       "    <tr>\n",
       "      <th>TDS</th>\n",
       "      <td>0.015903</td>\n",
       "      <td>0.990829</td>\n",
       "      <td>-0.005516</td>\n",
       "      <td>1.000000</td>\n",
       "      <td>0.001534</td>\n",
       "      <td>0.006980</td>\n",
       "      <td>0.004524</td>\n",
       "      <td>-0.004677</td>\n",
       "      <td>0.001442</td>\n",
       "      <td>-0.002591</td>\n",
       "      <td>...</td>\n",
       "      <td>0.013908</td>\n",
       "      <td>-0.000624</td>\n",
       "      <td>-0.000598</td>\n",
       "      <td>-0.000297</td>\n",
       "      <td>0.000248</td>\n",
       "      <td>-0.001877</td>\n",
       "      <td>0.001836</td>\n",
       "      <td>-0.001351</td>\n",
       "      <td>-0.000083</td>\n",
       "      <td>-0.000385</td>\n",
       "    </tr>\n",
       "    <tr>\n",
       "      <th>AMORTIZATION</th>\n",
       "      <td>0.129435</td>\n",
       "      <td>0.001501</td>\n",
       "      <td>0.088597</td>\n",
       "      <td>0.001534</td>\n",
       "      <td>1.000000</td>\n",
       "      <td>0.164561</td>\n",
       "      <td>-0.146111</td>\n",
       "      <td>-0.098835</td>\n",
       "      <td>0.032003</td>\n",
       "      <td>-0.035321</td>\n",
       "      <td>...</td>\n",
       "      <td>-0.038745</td>\n",
       "      <td>-0.014194</td>\n",
       "      <td>-0.036417</td>\n",
       "      <td>-0.014036</td>\n",
       "      <td>0.041835</td>\n",
       "      <td>0.017715</td>\n",
       "      <td>-0.041197</td>\n",
       "      <td>0.001990</td>\n",
       "      <td>0.022357</td>\n",
       "      <td>-0.017017</td>\n",
       "    </tr>\n",
       "    <tr>\n",
       "      <th>MORTGAGE AMOUNT</th>\n",
       "      <td>0.901484</td>\n",
       "      <td>0.007273</td>\n",
       "      <td>0.202021</td>\n",
       "      <td>0.006980</td>\n",
       "      <td>0.164561</td>\n",
       "      <td>1.000000</td>\n",
       "      <td>-0.167516</td>\n",
       "      <td>-0.045299</td>\n",
       "      <td>0.036083</td>\n",
       "      <td>-0.069633</td>\n",
       "      <td>...</td>\n",
       "      <td>-0.125987</td>\n",
       "      <td>-0.015836</td>\n",
       "      <td>-0.029739</td>\n",
       "      <td>0.013483</td>\n",
       "      <td>-0.208832</td>\n",
       "      <td>-0.052493</td>\n",
       "      <td>0.268623</td>\n",
       "      <td>-0.115041</td>\n",
       "      <td>-0.063399</td>\n",
       "      <td>0.003045</td>\n",
       "    </tr>\n",
       "    <tr>\n",
       "      <th>RATE</th>\n",
       "      <td>-0.112717</td>\n",
       "      <td>0.003635</td>\n",
       "      <td>-0.103399</td>\n",
       "      <td>0.004524</td>\n",
       "      <td>-0.146111</td>\n",
       "      <td>-0.167516</td>\n",
       "      <td>1.000000</td>\n",
       "      <td>0.213279</td>\n",
       "      <td>0.014505</td>\n",
       "      <td>-0.004554</td>\n",
       "      <td>...</td>\n",
       "      <td>0.062013</td>\n",
       "      <td>0.023309</td>\n",
       "      <td>0.035241</td>\n",
       "      <td>0.026658</td>\n",
       "      <td>-0.041660</td>\n",
       "      <td>-0.020510</td>\n",
       "      <td>0.043905</td>\n",
       "      <td>0.006531</td>\n",
       "      <td>-0.038987</td>\n",
       "      <td>0.035795</td>\n",
       "    </tr>\n",
       "    <tr>\n",
       "      <th>MORTGAGE PURPOSE</th>\n",
       "      <td>0.002549</td>\n",
       "      <td>-0.003779</td>\n",
       "      <td>-0.054713</td>\n",
       "      <td>-0.004677</td>\n",
       "      <td>-0.098835</td>\n",
       "      <td>-0.045299</td>\n",
       "      <td>0.213279</td>\n",
       "      <td>1.000000</td>\n",
       "      <td>-0.053437</td>\n",
       "      <td>0.092285</td>\n",
       "      <td>...</td>\n",
       "      <td>0.069394</td>\n",
       "      <td>0.013643</td>\n",
       "      <td>0.034347</td>\n",
       "      <td>0.019355</td>\n",
       "      <td>-0.211174</td>\n",
       "      <td>0.030377</td>\n",
       "      <td>0.152903</td>\n",
       "      <td>-0.027794</td>\n",
       "      <td>-0.044510</td>\n",
       "      <td>0.026260</td>\n",
       "    </tr>\n",
       "    <tr>\n",
       "      <th>PAYMENT FREQUENCY</th>\n",
       "      <td>0.033045</td>\n",
       "      <td>0.001409</td>\n",
       "      <td>0.004438</td>\n",
       "      <td>0.001442</td>\n",
       "      <td>0.032003</td>\n",
       "      <td>0.036083</td>\n",
       "      <td>0.014505</td>\n",
       "      <td>-0.053437</td>\n",
       "      <td>1.000000</td>\n",
       "      <td>-0.056144</td>\n",
       "      <td>...</td>\n",
       "      <td>0.014495</td>\n",
       "      <td>-0.023019</td>\n",
       "      <td>0.006233</td>\n",
       "      <td>0.010494</td>\n",
       "      <td>0.028526</td>\n",
       "      <td>0.004369</td>\n",
       "      <td>-0.015296</td>\n",
       "      <td>-0.014444</td>\n",
       "      <td>-0.007912</td>\n",
       "      <td>0.006977</td>\n",
       "    </tr>\n",
       "    <tr>\n",
       "      <th>TERM</th>\n",
       "      <td>-0.069293</td>\n",
       "      <td>-0.002532</td>\n",
       "      <td>0.006404</td>\n",
       "      <td>-0.002591</td>\n",
       "      <td>-0.035321</td>\n",
       "      <td>-0.069633</td>\n",
       "      <td>-0.004554</td>\n",
       "      <td>0.092285</td>\n",
       "      <td>-0.056144</td>\n",
       "      <td>1.000000</td>\n",
       "      <td>...</td>\n",
       "      <td>0.033846</td>\n",
       "      <td>0.007394</td>\n",
       "      <td>0.001246</td>\n",
       "      <td>0.005266</td>\n",
       "      <td>-0.041380</td>\n",
       "      <td>0.007774</td>\n",
       "      <td>0.011577</td>\n",
       "      <td>0.020259</td>\n",
       "      <td>0.004150</td>\n",
       "      <td>0.003555</td>\n",
       "    </tr>\n",
       "    <tr>\n",
       "      <th>AGE RANGE</th>\n",
       "      <td>0.001749</td>\n",
       "      <td>0.003830</td>\n",
       "      <td>-0.107088</td>\n",
       "      <td>0.004145</td>\n",
       "      <td>-0.049735</td>\n",
       "      <td>-0.061249</td>\n",
       "      <td>0.102311</td>\n",
       "      <td>0.236114</td>\n",
       "      <td>-0.006303</td>\n",
       "      <td>0.064736</td>\n",
       "      <td>...</td>\n",
       "      <td>0.191456</td>\n",
       "      <td>-0.005226</td>\n",
       "      <td>0.013279</td>\n",
       "      <td>0.017023</td>\n",
       "      <td>-0.012965</td>\n",
       "      <td>-0.011610</td>\n",
       "      <td>0.031838</td>\n",
       "      <td>0.002458</td>\n",
       "      <td>-0.043719</td>\n",
       "      <td>0.010072</td>\n",
       "    </tr>\n",
       "    <tr>\n",
       "      <th>GENDER</th>\n",
       "      <td>0.001316</td>\n",
       "      <td>-0.004920</td>\n",
       "      <td>0.020406</td>\n",
       "      <td>-0.006209</td>\n",
       "      <td>-0.022138</td>\n",
       "      <td>0.009912</td>\n",
       "      <td>0.033906</td>\n",
       "      <td>0.003672</td>\n",
       "      <td>-0.004951</td>\n",
       "      <td>0.016030</td>\n",
       "      <td>...</td>\n",
       "      <td>-0.014822</td>\n",
       "      <td>0.007537</td>\n",
       "      <td>-0.001688</td>\n",
       "      <td>0.005057</td>\n",
       "      <td>-0.022648</td>\n",
       "      <td>-0.012674</td>\n",
       "      <td>0.047766</td>\n",
       "      <td>-0.027958</td>\n",
       "      <td>-0.022880</td>\n",
       "      <td>0.002806</td>\n",
       "    </tr>\n",
       "    <tr>\n",
       "      <th>INCOME</th>\n",
       "      <td>0.445155</td>\n",
       "      <td>-0.005916</td>\n",
       "      <td>0.097523</td>\n",
       "      <td>-0.005365</td>\n",
       "      <td>0.058676</td>\n",
       "      <td>0.496367</td>\n",
       "      <td>-0.037850</td>\n",
       "      <td>-0.095604</td>\n",
       "      <td>0.022032</td>\n",
       "      <td>-0.044078</td>\n",
       "      <td>...</td>\n",
       "      <td>-0.112427</td>\n",
       "      <td>0.006625</td>\n",
       "      <td>-0.021129</td>\n",
       "      <td>-0.000795</td>\n",
       "      <td>0.000846</td>\n",
       "      <td>-0.061829</td>\n",
       "      <td>0.091668</td>\n",
       "      <td>-0.063225</td>\n",
       "      <td>-0.039792</td>\n",
       "      <td>-0.003743</td>\n",
       "    </tr>\n",
       "    <tr>\n",
       "      <th>INCOME TYPE</th>\n",
       "      <td>0.172236</td>\n",
       "      <td>0.001823</td>\n",
       "      <td>0.011840</td>\n",
       "      <td>0.001995</td>\n",
       "      <td>0.027775</td>\n",
       "      <td>0.177662</td>\n",
       "      <td>-0.060393</td>\n",
       "      <td>-0.032115</td>\n",
       "      <td>0.044641</td>\n",
       "      <td>0.013216</td>\n",
       "      <td>...</td>\n",
       "      <td>0.058042</td>\n",
       "      <td>-0.057648</td>\n",
       "      <td>0.005473</td>\n",
       "      <td>0.006956</td>\n",
       "      <td>0.009850</td>\n",
       "      <td>-0.045821</td>\n",
       "      <td>0.060506</td>\n",
       "      <td>-0.052199</td>\n",
       "      <td>-0.036536</td>\n",
       "      <td>0.010686</td>\n",
       "    </tr>\n",
       "    <tr>\n",
       "      <th>CREDIT SCORE</th>\n",
       "      <td>0.146371</td>\n",
       "      <td>0.000695</td>\n",
       "      <td>0.029057</td>\n",
       "      <td>0.001501</td>\n",
       "      <td>0.068927</td>\n",
       "      <td>0.156679</td>\n",
       "      <td>-0.344601</td>\n",
       "      <td>-0.308458</td>\n",
       "      <td>0.021293</td>\n",
       "      <td>-0.004042</td>\n",
       "      <td>...</td>\n",
       "      <td>-0.023435</td>\n",
       "      <td>-0.021764</td>\n",
       "      <td>0.005209</td>\n",
       "      <td>0.016245</td>\n",
       "      <td>0.121812</td>\n",
       "      <td>-0.007794</td>\n",
       "      <td>-0.083580</td>\n",
       "      <td>-0.013450</td>\n",
       "      <td>0.010001</td>\n",
       "      <td>0.006910</td>\n",
       "    </tr>\n",
       "    <tr>\n",
       "      <th>RESULT</th>\n",
       "      <td>-0.083477</td>\n",
       "      <td>0.002933</td>\n",
       "      <td>0.001695</td>\n",
       "      <td>0.003001</td>\n",
       "      <td>0.013277</td>\n",
       "      <td>-0.072398</td>\n",
       "      <td>-0.082771</td>\n",
       "      <td>-0.101582</td>\n",
       "      <td>-0.126907</td>\n",
       "      <td>0.015926</td>\n",
       "      <td>...</td>\n",
       "      <td>-0.018377</td>\n",
       "      <td>-0.014367</td>\n",
       "      <td>-0.022822</td>\n",
       "      <td>-0.024723</td>\n",
       "      <td>0.024558</td>\n",
       "      <td>0.014932</td>\n",
       "      <td>-0.029302</td>\n",
       "      <td>0.015325</td>\n",
       "      <td>0.010034</td>\n",
       "      <td>-0.013330</td>\n",
       "    </tr>\n",
       "    <tr>\n",
       "      <th>URBAN</th>\n",
       "      <td>0.053981</td>\n",
       "      <td>0.001266</td>\n",
       "      <td>0.070509</td>\n",
       "      <td>0.001293</td>\n",
       "      <td>0.043756</td>\n",
       "      <td>0.082845</td>\n",
       "      <td>-0.109238</td>\n",
       "      <td>-0.023505</td>\n",
       "      <td>0.002506</td>\n",
       "      <td>-0.020885</td>\n",
       "      <td>...</td>\n",
       "      <td>-0.036385</td>\n",
       "      <td>0.001749</td>\n",
       "      <td>0.010332</td>\n",
       "      <td>0.007248</td>\n",
       "      <td>0.079408</td>\n",
       "      <td>0.053948</td>\n",
       "      <td>-0.122929</td>\n",
       "      <td>0.037189</td>\n",
       "      <td>0.025303</td>\n",
       "      <td>0.009611</td>\n",
       "    </tr>\n",
       "    <tr>\n",
       "      <th>ZERO SCORE</th>\n",
       "      <td>-0.042623</td>\n",
       "      <td>-0.000746</td>\n",
       "      <td>-0.059022</td>\n",
       "      <td>-0.000870</td>\n",
       "      <td>-0.038577</td>\n",
       "      <td>-0.064883</td>\n",
       "      <td>0.084208</td>\n",
       "      <td>0.017307</td>\n",
       "      <td>0.014534</td>\n",
       "      <td>0.008645</td>\n",
       "      <td>...</td>\n",
       "      <td>0.043118</td>\n",
       "      <td>-0.000071</td>\n",
       "      <td>-0.002887</td>\n",
       "      <td>-0.000120</td>\n",
       "      <td>-0.005916</td>\n",
       "      <td>0.003367</td>\n",
       "      <td>0.001526</td>\n",
       "      <td>0.009788</td>\n",
       "      <td>-0.006330</td>\n",
       "      <td>0.000156</td>\n",
       "    </tr>\n",
       "    <tr>\n",
       "      <th>RATIO</th>\n",
       "      <td>0.119389</td>\n",
       "      <td>0.117259</td>\n",
       "      <td>0.006272</td>\n",
       "      <td>0.115659</td>\n",
       "      <td>0.014651</td>\n",
       "      <td>0.109316</td>\n",
       "      <td>-0.027929</td>\n",
       "      <td>0.035477</td>\n",
       "      <td>0.008776</td>\n",
       "      <td>-0.010437</td>\n",
       "      <td>...</td>\n",
       "      <td>0.076242</td>\n",
       "      <td>-0.013515</td>\n",
       "      <td>0.003298</td>\n",
       "      <td>0.011486</td>\n",
       "      <td>-0.058987</td>\n",
       "      <td>0.010056</td>\n",
       "      <td>0.039290</td>\n",
       "      <td>-0.015606</td>\n",
       "      <td>-0.001631</td>\n",
       "      <td>0.015570</td>\n",
       "    </tr>\n",
       "    <tr>\n",
       "      <th>RATE_X_CREDIT_SCORE</th>\n",
       "      <td>0.012517</td>\n",
       "      <td>0.004278</td>\n",
       "      <td>-0.069321</td>\n",
       "      <td>0.005900</td>\n",
       "      <td>-0.078170</td>\n",
       "      <td>-0.029663</td>\n",
       "      <td>0.653925</td>\n",
       "      <td>-0.046471</td>\n",
       "      <td>0.030311</td>\n",
       "      <td>-0.006512</td>\n",
       "      <td>...</td>\n",
       "      <td>0.039681</td>\n",
       "      <td>0.004443</td>\n",
       "      <td>0.036606</td>\n",
       "      <td>0.038455</td>\n",
       "      <td>0.060093</td>\n",
       "      <td>-0.025024</td>\n",
       "      <td>-0.026954</td>\n",
       "      <td>-0.005332</td>\n",
       "      <td>-0.028218</td>\n",
       "      <td>0.039186</td>\n",
       "    </tr>\n",
       "    <tr>\n",
       "      <th>RATE_X_LTV</th>\n",
       "      <td>-0.145042</td>\n",
       "      <td>-0.003492</td>\n",
       "      <td>0.905441</td>\n",
       "      <td>-0.003480</td>\n",
       "      <td>0.033210</td>\n",
       "      <td>0.127630</td>\n",
       "      <td>0.301639</td>\n",
       "      <td>0.034070</td>\n",
       "      <td>0.009790</td>\n",
       "      <td>0.006031</td>\n",
       "      <td>...</td>\n",
       "      <td>-0.066199</td>\n",
       "      <td>0.011362</td>\n",
       "      <td>-0.001663</td>\n",
       "      <td>0.000946</td>\n",
       "      <td>-0.041594</td>\n",
       "      <td>0.024318</td>\n",
       "      <td>0.005474</td>\n",
       "      <td>0.004479</td>\n",
       "      <td>0.012109</td>\n",
       "      <td>0.006378</td>\n",
       "    </tr>\n",
       "    <tr>\n",
       "      <th>CREDIT_SCORE^2</th>\n",
       "      <td>0.146257</td>\n",
       "      <td>0.000406</td>\n",
       "      <td>0.024220</td>\n",
       "      <td>0.001245</td>\n",
       "      <td>0.068521</td>\n",
       "      <td>0.154104</td>\n",
       "      <td>-0.333458</td>\n",
       "      <td>-0.308881</td>\n",
       "      <td>0.022178</td>\n",
       "      <td>-0.006266</td>\n",
       "      <td>...</td>\n",
       "      <td>-0.022103</td>\n",
       "      <td>-0.021633</td>\n",
       "      <td>0.005071</td>\n",
       "      <td>0.016243</td>\n",
       "      <td>0.122132</td>\n",
       "      <td>-0.008214</td>\n",
       "      <td>-0.084022</td>\n",
       "      <td>-0.012540</td>\n",
       "      <td>0.010167</td>\n",
       "      <td>0.006893</td>\n",
       "    </tr>\n",
       "    <tr>\n",
       "      <th>INCOME^2</th>\n",
       "      <td>0.200315</td>\n",
       "      <td>-0.001280</td>\n",
       "      <td>0.033099</td>\n",
       "      <td>-0.001173</td>\n",
       "      <td>0.021931</td>\n",
       "      <td>0.219502</td>\n",
       "      <td>0.001227</td>\n",
       "      <td>-0.031274</td>\n",
       "      <td>0.010848</td>\n",
       "      <td>-0.020217</td>\n",
       "      <td>...</td>\n",
       "      <td>-0.031671</td>\n",
       "      <td>0.000861</td>\n",
       "      <td>-0.008281</td>\n",
       "      <td>-0.002351</td>\n",
       "      <td>0.004976</td>\n",
       "      <td>-0.028620</td>\n",
       "      <td>0.036676</td>\n",
       "      <td>-0.022364</td>\n",
       "      <td>-0.021453</td>\n",
       "      <td>0.004567</td>\n",
       "    </tr>\n",
       "    <tr>\n",
       "      <th>NAICS_11</th>\n",
       "      <td>0.003579</td>\n",
       "      <td>-0.000474</td>\n",
       "      <td>0.000952</td>\n",
       "      <td>-0.000481</td>\n",
       "      <td>-0.005621</td>\n",
       "      <td>0.002195</td>\n",
       "      <td>0.000662</td>\n",
       "      <td>0.010054</td>\n",
       "      <td>0.001246</td>\n",
       "      <td>0.004005</td>\n",
       "      <td>...</td>\n",
       "      <td>-0.026497</td>\n",
       "      <td>-0.008719</td>\n",
       "      <td>0.015689</td>\n",
       "      <td>0.001121</td>\n",
       "      <td>-0.009232</td>\n",
       "      <td>-0.008609</td>\n",
       "      <td>0.017316</td>\n",
       "      <td>-0.009154</td>\n",
       "      <td>-0.009001</td>\n",
       "      <td>-0.001158</td>\n",
       "    </tr>\n",
       "    <tr>\n",
       "      <th>NAICS_22</th>\n",
       "      <td>-0.000520</td>\n",
       "      <td>-0.000220</td>\n",
       "      <td>0.004752</td>\n",
       "      <td>-0.000216</td>\n",
       "      <td>0.001567</td>\n",
       "      <td>0.002496</td>\n",
       "      <td>-0.008016</td>\n",
       "      <td>-0.012410</td>\n",
       "      <td>0.006136</td>\n",
       "      <td>0.001190</td>\n",
       "      <td>...</td>\n",
       "      <td>-0.011857</td>\n",
       "      <td>-0.003901</td>\n",
       "      <td>0.008139</td>\n",
       "      <td>-0.001876</td>\n",
       "      <td>0.007246</td>\n",
       "      <td>0.002720</td>\n",
       "      <td>-0.010193</td>\n",
       "      <td>-0.005768</td>\n",
       "      <td>0.007004</td>\n",
       "      <td>0.006902</td>\n",
       "    </tr>\n",
       "    <tr>\n",
       "      <th>NAICS_23</th>\n",
       "      <td>0.091027</td>\n",
       "      <td>-0.002041</td>\n",
       "      <td>0.027794</td>\n",
       "      <td>-0.002067</td>\n",
       "      <td>-0.007961</td>\n",
       "      <td>0.104591</td>\n",
       "      <td>0.008062</td>\n",
       "      <td>-0.014502</td>\n",
       "      <td>0.017027</td>\n",
       "      <td>-0.010927</td>\n",
       "      <td>...</td>\n",
       "      <td>-0.113889</td>\n",
       "      <td>-0.037474</td>\n",
       "      <td>0.004955</td>\n",
       "      <td>0.017877</td>\n",
       "      <td>-0.045776</td>\n",
       "      <td>-0.018197</td>\n",
       "      <td>0.075484</td>\n",
       "      <td>-0.036250</td>\n",
       "      <td>-0.033483</td>\n",
       "      <td>-0.008824</td>\n",
       "    </tr>\n",
       "    <tr>\n",
       "      <th>NAICS_31-33</th>\n",
       "      <td>0.020301</td>\n",
       "      <td>-0.000846</td>\n",
       "      <td>-0.004358</td>\n",
       "      <td>-0.000866</td>\n",
       "      <td>0.003652</td>\n",
       "      <td>0.016728</td>\n",
       "      <td>-0.006086</td>\n",
       "      <td>-0.002035</td>\n",
       "      <td>-0.001787</td>\n",
       "      <td>-0.001163</td>\n",
       "      <td>...</td>\n",
       "      <td>-0.047815</td>\n",
       "      <td>-0.015733</td>\n",
       "      <td>-0.003100</td>\n",
       "      <td>-0.004576</td>\n",
       "      <td>-0.011602</td>\n",
       "      <td>-0.002412</td>\n",
       "      <td>0.016071</td>\n",
       "      <td>-0.005893</td>\n",
       "      <td>-0.003755</td>\n",
       "      <td>-0.004930</td>\n",
       "    </tr>\n",
       "    <tr>\n",
       "      <th>NAICS_42</th>\n",
       "      <td>0.027205</td>\n",
       "      <td>0.015569</td>\n",
       "      <td>-0.004232</td>\n",
       "      <td>0.007773</td>\n",
       "      <td>-0.002351</td>\n",
       "      <td>0.024483</td>\n",
       "      <td>0.005060</td>\n",
       "      <td>-0.014928</td>\n",
       "      <td>0.004395</td>\n",
       "      <td>-0.005711</td>\n",
       "      <td>...</td>\n",
       "      <td>-0.014881</td>\n",
       "      <td>-0.004896</td>\n",
       "      <td>-0.004712</td>\n",
       "      <td>-0.002354</td>\n",
       "      <td>0.007831</td>\n",
       "      <td>0.003387</td>\n",
       "      <td>-0.005574</td>\n",
       "      <td>-0.001942</td>\n",
       "      <td>0.001082</td>\n",
       "      <td>-0.002998</td>\n",
       "    </tr>\n",
       "    <tr>\n",
       "      <th>NAICS_44-45</th>\n",
       "      <td>0.029643</td>\n",
       "      <td>-0.001686</td>\n",
       "      <td>0.010702</td>\n",
       "      <td>-0.001716</td>\n",
       "      <td>0.014608</td>\n",
       "      <td>0.035653</td>\n",
       "      <td>-0.018481</td>\n",
       "      <td>-0.020198</td>\n",
       "      <td>-0.001661</td>\n",
       "      <td>-0.001464</td>\n",
       "      <td>...</td>\n",
       "      <td>-0.094789</td>\n",
       "      <td>-0.031189</td>\n",
       "      <td>-0.000159</td>\n",
       "      <td>-0.002177</td>\n",
       "      <td>0.023470</td>\n",
       "      <td>-0.005059</td>\n",
       "      <td>-0.015500</td>\n",
       "      <td>-0.002248</td>\n",
       "      <td>0.006221</td>\n",
       "      <td>0.001073</td>\n",
       "    </tr>\n",
       "    <tr>\n",
       "      <th>NAICS_48-49</th>\n",
       "      <td>-0.022732</td>\n",
       "      <td>-0.001595</td>\n",
       "      <td>0.035407</td>\n",
       "      <td>-0.001642</td>\n",
       "      <td>0.014369</td>\n",
       "      <td>-0.005573</td>\n",
       "      <td>-0.035978</td>\n",
       "      <td>-0.014974</td>\n",
       "      <td>-0.002502</td>\n",
       "      <td>-0.007358</td>\n",
       "      <td>...</td>\n",
       "      <td>-0.090540</td>\n",
       "      <td>-0.029791</td>\n",
       "      <td>-0.009375</td>\n",
       "      <td>-0.009327</td>\n",
       "      <td>-0.047218</td>\n",
       "      <td>0.018458</td>\n",
       "      <td>0.032616</td>\n",
       "      <td>-0.019763</td>\n",
       "      <td>0.003947</td>\n",
       "      <td>-0.005134</td>\n",
       "    </tr>\n",
       "    <tr>\n",
       "      <th>NAICS_51</th>\n",
       "      <td>0.012922</td>\n",
       "      <td>-0.000315</td>\n",
       "      <td>-0.003319</td>\n",
       "      <td>-0.000326</td>\n",
       "      <td>-0.003763</td>\n",
       "      <td>0.009658</td>\n",
       "      <td>0.001657</td>\n",
       "      <td>0.013589</td>\n",
       "      <td>-0.001446</td>\n",
       "      <td>0.002833</td>\n",
       "      <td>...</td>\n",
       "      <td>-0.018107</td>\n",
       "      <td>-0.005958</td>\n",
       "      <td>0.002069</td>\n",
       "      <td>-0.002865</td>\n",
       "      <td>0.015834</td>\n",
       "      <td>-0.001679</td>\n",
       "      <td>-0.006646</td>\n",
       "      <td>-0.007601</td>\n",
       "      <td>0.000758</td>\n",
       "      <td>-0.003648</td>\n",
       "    </tr>\n",
       "    <tr>\n",
       "      <th>NAICS_52</th>\n",
       "      <td>0.020537</td>\n",
       "      <td>-0.000872</td>\n",
       "      <td>0.011423</td>\n",
       "      <td>-0.000882</td>\n",
       "      <td>0.005029</td>\n",
       "      <td>0.025229</td>\n",
       "      <td>-0.003117</td>\n",
       "      <td>-0.010742</td>\n",
       "      <td>-0.003281</td>\n",
       "      <td>0.000622</td>\n",
       "      <td>...</td>\n",
       "      <td>-0.048737</td>\n",
       "      <td>-0.016036</td>\n",
       "      <td>-0.006566</td>\n",
       "      <td>-0.001841</td>\n",
       "      <td>0.027787</td>\n",
       "      <td>-0.007744</td>\n",
       "      <td>-0.018439</td>\n",
       "      <td>0.003816</td>\n",
       "      <td>0.007388</td>\n",
       "      <td>-0.002892</td>\n",
       "    </tr>\n",
       "    <tr>\n",
       "      <th>NAICS_53</th>\n",
       "      <td>0.056257</td>\n",
       "      <td>-0.001401</td>\n",
       "      <td>0.003766</td>\n",
       "      <td>-0.001386</td>\n",
       "      <td>0.010991</td>\n",
       "      <td>0.057935</td>\n",
       "      <td>-0.012975</td>\n",
       "      <td>-0.040451</td>\n",
       "      <td>0.018242</td>\n",
       "      <td>-0.019997</td>\n",
       "      <td>...</td>\n",
       "      <td>-0.076927</td>\n",
       "      <td>-0.025312</td>\n",
       "      <td>0.008531</td>\n",
       "      <td>0.024329</td>\n",
       "      <td>0.060497</td>\n",
       "      <td>-0.026869</td>\n",
       "      <td>-0.020906</td>\n",
       "      <td>-0.014213</td>\n",
       "      <td>-0.009439</td>\n",
       "      <td>0.013215</td>\n",
       "    </tr>\n",
       "    <tr>\n",
       "      <th>NAICS_54</th>\n",
       "      <td>0.050129</td>\n",
       "      <td>-0.002090</td>\n",
       "      <td>0.017313</td>\n",
       "      <td>-0.002126</td>\n",
       "      <td>0.021773</td>\n",
       "      <td>0.058770</td>\n",
       "      <td>-0.046153</td>\n",
       "      <td>-0.050527</td>\n",
       "      <td>0.002798</td>\n",
       "      <td>-0.010514</td>\n",
       "      <td>...</td>\n",
       "      <td>-0.117323</td>\n",
       "      <td>-0.038604</td>\n",
       "      <td>-0.011332</td>\n",
       "      <td>-0.002371</td>\n",
       "      <td>0.045286</td>\n",
       "      <td>-0.009331</td>\n",
       "      <td>-0.026708</td>\n",
       "      <td>0.002791</td>\n",
       "      <td>0.004349</td>\n",
       "      <td>-0.002407</td>\n",
       "    </tr>\n",
       "    <tr>\n",
       "      <th>NAICS_55</th>\n",
       "      <td>-0.003786</td>\n",
       "      <td>-0.000428</td>\n",
       "      <td>-0.007227</td>\n",
       "      <td>-0.000436</td>\n",
       "      <td>-0.011696</td>\n",
       "      <td>-0.008810</td>\n",
       "      <td>0.008318</td>\n",
       "      <td>-0.000636</td>\n",
       "      <td>0.008769</td>\n",
       "      <td>-0.007073</td>\n",
       "      <td>...</td>\n",
       "      <td>-0.023860</td>\n",
       "      <td>-0.007851</td>\n",
       "      <td>-0.001620</td>\n",
       "      <td>0.002118</td>\n",
       "      <td>0.009769</td>\n",
       "      <td>-0.005093</td>\n",
       "      <td>0.000142</td>\n",
       "      <td>-0.004821</td>\n",
       "      <td>-0.005395</td>\n",
       "      <td>0.009100</td>\n",
       "    </tr>\n",
       "    <tr>\n",
       "      <th>NAICS_56</th>\n",
       "      <td>-0.099548</td>\n",
       "      <td>-0.002509</td>\n",
       "      <td>-0.005902</td>\n",
       "      <td>-0.001397</td>\n",
       "      <td>-0.007568</td>\n",
       "      <td>-0.103444</td>\n",
       "      <td>0.043023</td>\n",
       "      <td>0.049352</td>\n",
       "      <td>-0.017521</td>\n",
       "      <td>-0.001277</td>\n",
       "      <td>...</td>\n",
       "      <td>-0.185233</td>\n",
       "      <td>-0.060949</td>\n",
       "      <td>-0.006615</td>\n",
       "      <td>-0.008236</td>\n",
       "      <td>-0.032118</td>\n",
       "      <td>0.032610</td>\n",
       "      <td>-0.017173</td>\n",
       "      <td>0.030395</td>\n",
       "      <td>0.017786</td>\n",
       "      <td>-0.007324</td>\n",
       "    </tr>\n",
       "    <tr>\n",
       "      <th>NAICS_61</th>\n",
       "      <td>-0.008807</td>\n",
       "      <td>-0.001006</td>\n",
       "      <td>-0.010904</td>\n",
       "      <td>-0.001031</td>\n",
       "      <td>-0.005250</td>\n",
       "      <td>-0.014670</td>\n",
       "      <td>0.000953</td>\n",
       "      <td>0.014957</td>\n",
       "      <td>-0.009279</td>\n",
       "      <td>0.014026</td>\n",
       "      <td>...</td>\n",
       "      <td>-0.057109</td>\n",
       "      <td>-0.018791</td>\n",
       "      <td>0.009893</td>\n",
       "      <td>-0.003985</td>\n",
       "      <td>0.001523</td>\n",
       "      <td>0.005721</td>\n",
       "      <td>-0.014282</td>\n",
       "      <td>0.010548</td>\n",
       "      <td>0.007660</td>\n",
       "      <td>-0.005545</td>\n",
       "    </tr>\n",
       "    <tr>\n",
       "      <th>NAICS_62</th>\n",
       "      <td>-0.003639</td>\n",
       "      <td>-0.001271</td>\n",
       "      <td>0.012632</td>\n",
       "      <td>-0.001299</td>\n",
       "      <td>-0.009700</td>\n",
       "      <td>-0.001634</td>\n",
       "      <td>0.017400</td>\n",
       "      <td>0.022287</td>\n",
       "      <td>-0.024741</td>\n",
       "      <td>0.000849</td>\n",
       "      <td>...</td>\n",
       "      <td>-0.071936</td>\n",
       "      <td>-0.023670</td>\n",
       "      <td>-0.000174</td>\n",
       "      <td>-0.003219</td>\n",
       "      <td>-0.007747</td>\n",
       "      <td>0.007273</td>\n",
       "      <td>-0.006674</td>\n",
       "      <td>0.005630</td>\n",
       "      <td>0.010144</td>\n",
       "      <td>0.001560</td>\n",
       "    </tr>\n",
       "    <tr>\n",
       "      <th>NAICS_71</th>\n",
       "      <td>0.012251</td>\n",
       "      <td>-0.000675</td>\n",
       "      <td>-0.001953</td>\n",
       "      <td>-0.000695</td>\n",
       "      <td>-0.004450</td>\n",
       "      <td>0.007410</td>\n",
       "      <td>-0.016098</td>\n",
       "      <td>-0.009358</td>\n",
       "      <td>0.003112</td>\n",
       "      <td>0.011361</td>\n",
       "      <td>...</td>\n",
       "      <td>-0.038532</td>\n",
       "      <td>-0.012679</td>\n",
       "      <td>0.013749</td>\n",
       "      <td>-0.002415</td>\n",
       "      <td>0.019581</td>\n",
       "      <td>-0.004055</td>\n",
       "      <td>-0.015999</td>\n",
       "      <td>-0.000335</td>\n",
       "      <td>0.001771</td>\n",
       "      <td>0.009611</td>\n",
       "    </tr>\n",
       "    <tr>\n",
       "      <th>NAICS_72</th>\n",
       "      <td>0.013382</td>\n",
       "      <td>-0.001334</td>\n",
       "      <td>0.009591</td>\n",
       "      <td>-0.001418</td>\n",
       "      <td>0.022059</td>\n",
       "      <td>0.020254</td>\n",
       "      <td>-0.046063</td>\n",
       "      <td>-0.035866</td>\n",
       "      <td>0.011042</td>\n",
       "      <td>-0.000415</td>\n",
       "      <td>...</td>\n",
       "      <td>-0.081404</td>\n",
       "      <td>-0.026785</td>\n",
       "      <td>-0.000015</td>\n",
       "      <td>-0.000090</td>\n",
       "      <td>0.031343</td>\n",
       "      <td>-0.002028</td>\n",
       "      <td>-0.022550</td>\n",
       "      <td>0.001747</td>\n",
       "      <td>0.001310</td>\n",
       "      <td>0.002285</td>\n",
       "    </tr>\n",
       "    <tr>\n",
       "      <th>NAICS_81</th>\n",
       "      <td>-0.085875</td>\n",
       "      <td>0.014066</td>\n",
       "      <td>-0.096103</td>\n",
       "      <td>0.013908</td>\n",
       "      <td>-0.038745</td>\n",
       "      <td>-0.125987</td>\n",
       "      <td>0.062013</td>\n",
       "      <td>0.069394</td>\n",
       "      <td>0.014495</td>\n",
       "      <td>0.033846</td>\n",
       "      <td>...</td>\n",
       "      <td>1.000000</td>\n",
       "      <td>-0.034319</td>\n",
       "      <td>0.010217</td>\n",
       "      <td>-0.003176</td>\n",
       "      <td>-0.018747</td>\n",
       "      <td>-0.004920</td>\n",
       "      <td>0.010227</td>\n",
       "      <td>0.016820</td>\n",
       "      <td>-0.010240</td>\n",
       "      <td>0.012765</td>\n",
       "    </tr>\n",
       "    <tr>\n",
       "      <th>NAICS_92</th>\n",
       "      <td>-0.015337</td>\n",
       "      <td>-0.000619</td>\n",
       "      <td>0.001771</td>\n",
       "      <td>-0.000624</td>\n",
       "      <td>-0.014194</td>\n",
       "      <td>-0.015836</td>\n",
       "      <td>0.023309</td>\n",
       "      <td>0.013643</td>\n",
       "      <td>-0.023019</td>\n",
       "      <td>0.007394</td>\n",
       "      <td>...</td>\n",
       "      <td>-0.034319</td>\n",
       "      <td>1.000000</td>\n",
       "      <td>-0.006717</td>\n",
       "      <td>-0.001309</td>\n",
       "      <td>-0.007440</td>\n",
       "      <td>-0.004454</td>\n",
       "      <td>0.007652</td>\n",
       "      <td>0.001173</td>\n",
       "      <td>0.000904</td>\n",
       "      <td>0.006053</td>\n",
       "    </tr>\n",
       "    <tr>\n",
       "      <th>Duplex</th>\n",
       "      <td>-0.023663</td>\n",
       "      <td>-0.000596</td>\n",
       "      <td>-0.016782</td>\n",
       "      <td>-0.000598</td>\n",
       "      <td>-0.036417</td>\n",
       "      <td>-0.029739</td>\n",
       "      <td>0.035241</td>\n",
       "      <td>0.034347</td>\n",
       "      <td>0.006233</td>\n",
       "      <td>0.001246</td>\n",
       "      <td>...</td>\n",
       "      <td>0.010217</td>\n",
       "      <td>-0.006717</td>\n",
       "      <td>1.000000</td>\n",
       "      <td>-0.005225</td>\n",
       "      <td>-0.039581</td>\n",
       "      <td>-0.032788</td>\n",
       "      <td>-0.136754</td>\n",
       "      <td>-0.023690</td>\n",
       "      <td>-0.027414</td>\n",
       "      <td>-0.006653</td>\n",
       "    </tr>\n",
       "    <tr>\n",
       "      <th>Fourplex</th>\n",
       "      <td>0.020299</td>\n",
       "      <td>-0.000305</td>\n",
       "      <td>-0.010318</td>\n",
       "      <td>-0.000297</td>\n",
       "      <td>-0.014036</td>\n",
       "      <td>0.013483</td>\n",
       "      <td>0.026658</td>\n",
       "      <td>0.019355</td>\n",
       "      <td>0.010494</td>\n",
       "      <td>0.005266</td>\n",
       "      <td>...</td>\n",
       "      <td>-0.003176</td>\n",
       "      <td>-0.001309</td>\n",
       "      <td>-0.005225</td>\n",
       "      <td>1.000000</td>\n",
       "      <td>-0.019777</td>\n",
       "      <td>-0.016382</td>\n",
       "      <td>-0.068329</td>\n",
       "      <td>-0.011837</td>\n",
       "      <td>-0.013697</td>\n",
       "      <td>-0.003324</td>\n",
       "    </tr>\n",
       "    <tr>\n",
       "      <th>High Rise</th>\n",
       "      <td>-0.202010</td>\n",
       "      <td>-0.001355</td>\n",
       "      <td>-0.028657</td>\n",
       "      <td>0.000248</td>\n",
       "      <td>0.041835</td>\n",
       "      <td>-0.208832</td>\n",
       "      <td>-0.041660</td>\n",
       "      <td>-0.211174</td>\n",
       "      <td>0.028526</td>\n",
       "      <td>-0.041380</td>\n",
       "      <td>...</td>\n",
       "      <td>-0.018747</td>\n",
       "      <td>-0.007440</td>\n",
       "      <td>-0.039581</td>\n",
       "      <td>-0.019777</td>\n",
       "      <td>1.000000</td>\n",
       "      <td>-0.124095</td>\n",
       "      <td>-0.517584</td>\n",
       "      <td>-0.089663</td>\n",
       "      <td>-0.103754</td>\n",
       "      <td>-0.025181</td>\n",
       "    </tr>\n",
       "    <tr>\n",
       "      <th>Semi-Detached</th>\n",
       "      <td>-0.065974</td>\n",
       "      <td>-0.001822</td>\n",
       "      <td>0.035093</td>\n",
       "      <td>-0.001877</td>\n",
       "      <td>0.017715</td>\n",
       "      <td>-0.052493</td>\n",
       "      <td>-0.020510</td>\n",
       "      <td>0.030377</td>\n",
       "      <td>0.004369</td>\n",
       "      <td>0.007774</td>\n",
       "      <td>...</td>\n",
       "      <td>-0.004920</td>\n",
       "      <td>-0.004454</td>\n",
       "      <td>-0.032788</td>\n",
       "      <td>-0.016382</td>\n",
       "      <td>-0.124095</td>\n",
       "      <td>1.000000</td>\n",
       "      <td>-0.428751</td>\n",
       "      <td>-0.074274</td>\n",
       "      <td>-0.085947</td>\n",
       "      <td>-0.020859</td>\n",
       "    </tr>\n",
       "    <tr>\n",
       "      <th>Single Detached</th>\n",
       "      <td>0.276201</td>\n",
       "      <td>0.002148</td>\n",
       "      <td>-0.010719</td>\n",
       "      <td>0.001836</td>\n",
       "      <td>-0.041197</td>\n",
       "      <td>0.268623</td>\n",
       "      <td>0.043905</td>\n",
       "      <td>0.152903</td>\n",
       "      <td>-0.015296</td>\n",
       "      <td>0.011577</td>\n",
       "      <td>...</td>\n",
       "      <td>0.010227</td>\n",
       "      <td>0.007652</td>\n",
       "      <td>-0.136754</td>\n",
       "      <td>-0.068329</td>\n",
       "      <td>-0.517584</td>\n",
       "      <td>-0.428751</td>\n",
       "      <td>1.000000</td>\n",
       "      <td>-0.309788</td>\n",
       "      <td>-0.358475</td>\n",
       "      <td>-0.087002</td>\n",
       "    </tr>\n",
       "    <tr>\n",
       "      <th>Townhouse Condominium</th>\n",
       "      <td>-0.115163</td>\n",
       "      <td>-0.001319</td>\n",
       "      <td>-0.000383</td>\n",
       "      <td>-0.001351</td>\n",
       "      <td>0.001990</td>\n",
       "      <td>-0.115041</td>\n",
       "      <td>0.006531</td>\n",
       "      <td>-0.027794</td>\n",
       "      <td>-0.014444</td>\n",
       "      <td>0.020259</td>\n",
       "      <td>...</td>\n",
       "      <td>0.016820</td>\n",
       "      <td>0.001173</td>\n",
       "      <td>-0.023690</td>\n",
       "      <td>-0.011837</td>\n",
       "      <td>-0.089663</td>\n",
       "      <td>-0.074274</td>\n",
       "      <td>-0.309788</td>\n",
       "      <td>1.000000</td>\n",
       "      <td>-0.062100</td>\n",
       "      <td>-0.015072</td>\n",
       "    </tr>\n",
       "    <tr>\n",
       "      <th>Townhouse Freehold</th>\n",
       "      <td>-0.076477</td>\n",
       "      <td>0.001386</td>\n",
       "      <td>0.029533</td>\n",
       "      <td>-0.000083</td>\n",
       "      <td>0.022357</td>\n",
       "      <td>-0.063399</td>\n",
       "      <td>-0.038987</td>\n",
       "      <td>-0.044510</td>\n",
       "      <td>-0.007912</td>\n",
       "      <td>0.004150</td>\n",
       "      <td>...</td>\n",
       "      <td>-0.010240</td>\n",
       "      <td>0.000904</td>\n",
       "      <td>-0.027414</td>\n",
       "      <td>-0.013697</td>\n",
       "      <td>-0.103754</td>\n",
       "      <td>-0.085947</td>\n",
       "      <td>-0.358475</td>\n",
       "      <td>-0.062100</td>\n",
       "      <td>1.000000</td>\n",
       "      <td>-0.017440</td>\n",
       "    </tr>\n",
       "    <tr>\n",
       "      <th>Triplex</th>\n",
       "      <td>0.008045</td>\n",
       "      <td>-0.000387</td>\n",
       "      <td>-0.007606</td>\n",
       "      <td>-0.000385</td>\n",
       "      <td>-0.017017</td>\n",
       "      <td>0.003045</td>\n",
       "      <td>0.035795</td>\n",
       "      <td>0.026260</td>\n",
       "      <td>0.006977</td>\n",
       "      <td>0.003555</td>\n",
       "      <td>...</td>\n",
       "      <td>0.012765</td>\n",
       "      <td>0.006053</td>\n",
       "      <td>-0.006653</td>\n",
       "      <td>-0.003324</td>\n",
       "      <td>-0.025181</td>\n",
       "      <td>-0.020859</td>\n",
       "      <td>-0.087002</td>\n",
       "      <td>-0.015072</td>\n",
       "      <td>-0.017440</td>\n",
       "      <td>1.000000</td>\n",
       "    </tr>\n",
       "  </tbody>\n",
       "</table>\n",
       "<p>50 rows × 50 columns</p>\n",
       "</div>"
      ],
      "text/plain": [
       "                       PROPERTY VALUE       GDS       LTV       TDS  \\\n",
       "PROPERTY VALUE               1.000000  0.016124 -0.102821  0.015903   \n",
       "GDS                          0.016124  1.000000 -0.005129  0.990829   \n",
       "LTV                         -0.102821 -0.005129  1.000000 -0.005516   \n",
       "TDS                          0.015903  0.990829 -0.005516  1.000000   \n",
       "AMORTIZATION                 0.129435  0.001501  0.088597  0.001534   \n",
       "MORTGAGE AMOUNT              0.901484  0.007273  0.202021  0.006980   \n",
       "RATE                        -0.112717  0.003635 -0.103399  0.004524   \n",
       "MORTGAGE PURPOSE             0.002549 -0.003779 -0.054713 -0.004677   \n",
       "PAYMENT FREQUENCY            0.033045  0.001409  0.004438  0.001442   \n",
       "TERM                        -0.069293 -0.002532  0.006404 -0.002591   \n",
       "AGE RANGE                    0.001749  0.003830 -0.107088  0.004145   \n",
       "GENDER                       0.001316 -0.004920  0.020406 -0.006209   \n",
       "INCOME                       0.445155 -0.005916  0.097523 -0.005365   \n",
       "INCOME TYPE                  0.172236  0.001823  0.011840  0.001995   \n",
       "CREDIT SCORE                 0.146371  0.000695  0.029057  0.001501   \n",
       "RESULT                      -0.083477  0.002933  0.001695  0.003001   \n",
       "URBAN                        0.053981  0.001266  0.070509  0.001293   \n",
       "ZERO SCORE                  -0.042623 -0.000746 -0.059022 -0.000870   \n",
       "RATIO                        0.119389  0.117259  0.006272  0.115659   \n",
       "RATE_X_CREDIT_SCORE          0.012517  0.004278 -0.069321  0.005900   \n",
       "RATE_X_LTV                  -0.145042 -0.003492  0.905441 -0.003480   \n",
       "CREDIT_SCORE^2               0.146257  0.000406  0.024220  0.001245   \n",
       "INCOME^2                     0.200315 -0.001280  0.033099 -0.001173   \n",
       "NAICS_11                     0.003579 -0.000474  0.000952 -0.000481   \n",
       "NAICS_22                    -0.000520 -0.000220  0.004752 -0.000216   \n",
       "NAICS_23                     0.091027 -0.002041  0.027794 -0.002067   \n",
       "NAICS_31-33                  0.020301 -0.000846 -0.004358 -0.000866   \n",
       "NAICS_42                     0.027205  0.015569 -0.004232  0.007773   \n",
       "NAICS_44-45                  0.029643 -0.001686  0.010702 -0.001716   \n",
       "NAICS_48-49                 -0.022732 -0.001595  0.035407 -0.001642   \n",
       "NAICS_51                     0.012922 -0.000315 -0.003319 -0.000326   \n",
       "NAICS_52                     0.020537 -0.000872  0.011423 -0.000882   \n",
       "NAICS_53                     0.056257 -0.001401  0.003766 -0.001386   \n",
       "NAICS_54                     0.050129 -0.002090  0.017313 -0.002126   \n",
       "NAICS_55                    -0.003786 -0.000428 -0.007227 -0.000436   \n",
       "NAICS_56                    -0.099548 -0.002509 -0.005902 -0.001397   \n",
       "NAICS_61                    -0.008807 -0.001006 -0.010904 -0.001031   \n",
       "NAICS_62                    -0.003639 -0.001271  0.012632 -0.001299   \n",
       "NAICS_71                     0.012251 -0.000675 -0.001953 -0.000695   \n",
       "NAICS_72                     0.013382 -0.001334  0.009591 -0.001418   \n",
       "NAICS_81                    -0.085875  0.014066 -0.096103  0.013908   \n",
       "NAICS_92                    -0.015337 -0.000619  0.001771 -0.000624   \n",
       "Duplex                      -0.023663 -0.000596 -0.016782 -0.000598   \n",
       "Fourplex                     0.020299 -0.000305 -0.010318 -0.000297   \n",
       "High Rise                   -0.202010 -0.001355 -0.028657  0.000248   \n",
       "Semi-Detached               -0.065974 -0.001822  0.035093 -0.001877   \n",
       "Single Detached              0.276201  0.002148 -0.010719  0.001836   \n",
       "Townhouse Condominium       -0.115163 -0.001319 -0.000383 -0.001351   \n",
       "Townhouse Freehold          -0.076477  0.001386  0.029533 -0.000083   \n",
       "Triplex                      0.008045 -0.000387 -0.007606 -0.000385   \n",
       "\n",
       "                       AMORTIZATION  MORTGAGE AMOUNT      RATE  \\\n",
       "PROPERTY VALUE             0.129435         0.901484 -0.112717   \n",
       "GDS                        0.001501         0.007273  0.003635   \n",
       "LTV                        0.088597         0.202021 -0.103399   \n",
       "TDS                        0.001534         0.006980  0.004524   \n",
       "AMORTIZATION               1.000000         0.164561 -0.146111   \n",
       "MORTGAGE AMOUNT            0.164561         1.000000 -0.167516   \n",
       "RATE                      -0.146111        -0.167516  1.000000   \n",
       "MORTGAGE PURPOSE          -0.098835        -0.045299  0.213279   \n",
       "PAYMENT FREQUENCY          0.032003         0.036083  0.014505   \n",
       "TERM                      -0.035321        -0.069633 -0.004554   \n",
       "AGE RANGE                 -0.049735        -0.061249  0.102311   \n",
       "GENDER                    -0.022138         0.009912  0.033906   \n",
       "INCOME                     0.058676         0.496367 -0.037850   \n",
       "INCOME TYPE                0.027775         0.177662 -0.060393   \n",
       "CREDIT SCORE               0.068927         0.156679 -0.344601   \n",
       "RESULT                     0.013277        -0.072398 -0.082771   \n",
       "URBAN                      0.043756         0.082845 -0.109238   \n",
       "ZERO SCORE                -0.038577        -0.064883  0.084208   \n",
       "RATIO                      0.014651         0.109316 -0.027929   \n",
       "RATE_X_CREDIT_SCORE       -0.078170        -0.029663  0.653925   \n",
       "RATE_X_LTV                 0.033210         0.127630  0.301639   \n",
       "CREDIT_SCORE^2             0.068521         0.154104 -0.333458   \n",
       "INCOME^2                   0.021931         0.219502  0.001227   \n",
       "NAICS_11                  -0.005621         0.002195  0.000662   \n",
       "NAICS_22                   0.001567         0.002496 -0.008016   \n",
       "NAICS_23                  -0.007961         0.104591  0.008062   \n",
       "NAICS_31-33                0.003652         0.016728 -0.006086   \n",
       "NAICS_42                  -0.002351         0.024483  0.005060   \n",
       "NAICS_44-45                0.014608         0.035653 -0.018481   \n",
       "NAICS_48-49                0.014369        -0.005573 -0.035978   \n",
       "NAICS_51                  -0.003763         0.009658  0.001657   \n",
       "NAICS_52                   0.005029         0.025229 -0.003117   \n",
       "NAICS_53                   0.010991         0.057935 -0.012975   \n",
       "NAICS_54                   0.021773         0.058770 -0.046153   \n",
       "NAICS_55                  -0.011696        -0.008810  0.008318   \n",
       "NAICS_56                  -0.007568        -0.103444  0.043023   \n",
       "NAICS_61                  -0.005250        -0.014670  0.000953   \n",
       "NAICS_62                  -0.009700        -0.001634  0.017400   \n",
       "NAICS_71                  -0.004450         0.007410 -0.016098   \n",
       "NAICS_72                   0.022059         0.020254 -0.046063   \n",
       "NAICS_81                  -0.038745        -0.125987  0.062013   \n",
       "NAICS_92                  -0.014194        -0.015836  0.023309   \n",
       "Duplex                    -0.036417        -0.029739  0.035241   \n",
       "Fourplex                  -0.014036         0.013483  0.026658   \n",
       "High Rise                  0.041835        -0.208832 -0.041660   \n",
       "Semi-Detached              0.017715        -0.052493 -0.020510   \n",
       "Single Detached           -0.041197         0.268623  0.043905   \n",
       "Townhouse Condominium      0.001990        -0.115041  0.006531   \n",
       "Townhouse Freehold         0.022357        -0.063399 -0.038987   \n",
       "Triplex                   -0.017017         0.003045  0.035795   \n",
       "\n",
       "                       MORTGAGE PURPOSE  PAYMENT FREQUENCY      TERM  ...  \\\n",
       "PROPERTY VALUE                 0.002549           0.033045 -0.069293  ...   \n",
       "GDS                           -0.003779           0.001409 -0.002532  ...   \n",
       "LTV                           -0.054713           0.004438  0.006404  ...   \n",
       "TDS                           -0.004677           0.001442 -0.002591  ...   \n",
       "AMORTIZATION                  -0.098835           0.032003 -0.035321  ...   \n",
       "MORTGAGE AMOUNT               -0.045299           0.036083 -0.069633  ...   \n",
       "RATE                           0.213279           0.014505 -0.004554  ...   \n",
       "MORTGAGE PURPOSE               1.000000          -0.053437  0.092285  ...   \n",
       "PAYMENT FREQUENCY             -0.053437           1.000000 -0.056144  ...   \n",
       "TERM                           0.092285          -0.056144  1.000000  ...   \n",
       "AGE RANGE                      0.236114          -0.006303  0.064736  ...   \n",
       "GENDER                         0.003672          -0.004951  0.016030  ...   \n",
       "INCOME                        -0.095604           0.022032 -0.044078  ...   \n",
       "INCOME TYPE                   -0.032115           0.044641  0.013216  ...   \n",
       "CREDIT SCORE                  -0.308458           0.021293 -0.004042  ...   \n",
       "RESULT                        -0.101582          -0.126907  0.015926  ...   \n",
       "URBAN                         -0.023505           0.002506 -0.020885  ...   \n",
       "ZERO SCORE                     0.017307           0.014534  0.008645  ...   \n",
       "RATIO                          0.035477           0.008776 -0.010437  ...   \n",
       "RATE_X_CREDIT_SCORE           -0.046471           0.030311 -0.006512  ...   \n",
       "RATE_X_LTV                     0.034070           0.009790  0.006031  ...   \n",
       "CREDIT_SCORE^2                -0.308881           0.022178 -0.006266  ...   \n",
       "INCOME^2                      -0.031274           0.010848 -0.020217  ...   \n",
       "NAICS_11                       0.010054           0.001246  0.004005  ...   \n",
       "NAICS_22                      -0.012410           0.006136  0.001190  ...   \n",
       "NAICS_23                      -0.014502           0.017027 -0.010927  ...   \n",
       "NAICS_31-33                   -0.002035          -0.001787 -0.001163  ...   \n",
       "NAICS_42                      -0.014928           0.004395 -0.005711  ...   \n",
       "NAICS_44-45                   -0.020198          -0.001661 -0.001464  ...   \n",
       "NAICS_48-49                   -0.014974          -0.002502 -0.007358  ...   \n",
       "NAICS_51                       0.013589          -0.001446  0.002833  ...   \n",
       "NAICS_52                      -0.010742          -0.003281  0.000622  ...   \n",
       "NAICS_53                      -0.040451           0.018242 -0.019997  ...   \n",
       "NAICS_54                      -0.050527           0.002798 -0.010514  ...   \n",
       "NAICS_55                      -0.000636           0.008769 -0.007073  ...   \n",
       "NAICS_56                       0.049352          -0.017521 -0.001277  ...   \n",
       "NAICS_61                       0.014957          -0.009279  0.014026  ...   \n",
       "NAICS_62                       0.022287          -0.024741  0.000849  ...   \n",
       "NAICS_71                      -0.009358           0.003112  0.011361  ...   \n",
       "NAICS_72                      -0.035866           0.011042 -0.000415  ...   \n",
       "NAICS_81                       0.069394           0.014495  0.033846  ...   \n",
       "NAICS_92                       0.013643          -0.023019  0.007394  ...   \n",
       "Duplex                         0.034347           0.006233  0.001246  ...   \n",
       "Fourplex                       0.019355           0.010494  0.005266  ...   \n",
       "High Rise                     -0.211174           0.028526 -0.041380  ...   \n",
       "Semi-Detached                  0.030377           0.004369  0.007774  ...   \n",
       "Single Detached                0.152903          -0.015296  0.011577  ...   \n",
       "Townhouse Condominium         -0.027794          -0.014444  0.020259  ...   \n",
       "Townhouse Freehold            -0.044510          -0.007912  0.004150  ...   \n",
       "Triplex                        0.026260           0.006977  0.003555  ...   \n",
       "\n",
       "                       NAICS_81  NAICS_92    Duplex  Fourplex  High Rise  \\\n",
       "PROPERTY VALUE        -0.085875 -0.015337 -0.023663  0.020299  -0.202010   \n",
       "GDS                    0.014066 -0.000619 -0.000596 -0.000305  -0.001355   \n",
       "LTV                   -0.096103  0.001771 -0.016782 -0.010318  -0.028657   \n",
       "TDS                    0.013908 -0.000624 -0.000598 -0.000297   0.000248   \n",
       "AMORTIZATION          -0.038745 -0.014194 -0.036417 -0.014036   0.041835   \n",
       "MORTGAGE AMOUNT       -0.125987 -0.015836 -0.029739  0.013483  -0.208832   \n",
       "RATE                   0.062013  0.023309  0.035241  0.026658  -0.041660   \n",
       "MORTGAGE PURPOSE       0.069394  0.013643  0.034347  0.019355  -0.211174   \n",
       "PAYMENT FREQUENCY      0.014495 -0.023019  0.006233  0.010494   0.028526   \n",
       "TERM                   0.033846  0.007394  0.001246  0.005266  -0.041380   \n",
       "AGE RANGE              0.191456 -0.005226  0.013279  0.017023  -0.012965   \n",
       "GENDER                -0.014822  0.007537 -0.001688  0.005057  -0.022648   \n",
       "INCOME                -0.112427  0.006625 -0.021129 -0.000795   0.000846   \n",
       "INCOME TYPE            0.058042 -0.057648  0.005473  0.006956   0.009850   \n",
       "CREDIT SCORE          -0.023435 -0.021764  0.005209  0.016245   0.121812   \n",
       "RESULT                -0.018377 -0.014367 -0.022822 -0.024723   0.024558   \n",
       "URBAN                 -0.036385  0.001749  0.010332  0.007248   0.079408   \n",
       "ZERO SCORE             0.043118 -0.000071 -0.002887 -0.000120  -0.005916   \n",
       "RATIO                  0.076242 -0.013515  0.003298  0.011486  -0.058987   \n",
       "RATE_X_CREDIT_SCORE    0.039681  0.004443  0.036606  0.038455   0.060093   \n",
       "RATE_X_LTV            -0.066199  0.011362 -0.001663  0.000946  -0.041594   \n",
       "CREDIT_SCORE^2        -0.022103 -0.021633  0.005071  0.016243   0.122132   \n",
       "INCOME^2              -0.031671  0.000861 -0.008281 -0.002351   0.004976   \n",
       "NAICS_11              -0.026497 -0.008719  0.015689  0.001121  -0.009232   \n",
       "NAICS_22              -0.011857 -0.003901  0.008139 -0.001876   0.007246   \n",
       "NAICS_23              -0.113889 -0.037474  0.004955  0.017877  -0.045776   \n",
       "NAICS_31-33           -0.047815 -0.015733 -0.003100 -0.004576  -0.011602   \n",
       "NAICS_42              -0.014881 -0.004896 -0.004712 -0.002354   0.007831   \n",
       "NAICS_44-45           -0.094789 -0.031189 -0.000159 -0.002177   0.023470   \n",
       "NAICS_48-49           -0.090540 -0.029791 -0.009375 -0.009327  -0.047218   \n",
       "NAICS_51              -0.018107 -0.005958  0.002069 -0.002865   0.015834   \n",
       "NAICS_52              -0.048737 -0.016036 -0.006566 -0.001841   0.027787   \n",
       "NAICS_53              -0.076927 -0.025312  0.008531  0.024329   0.060497   \n",
       "NAICS_54              -0.117323 -0.038604 -0.011332 -0.002371   0.045286   \n",
       "NAICS_55              -0.023860 -0.007851 -0.001620  0.002118   0.009769   \n",
       "NAICS_56              -0.185233 -0.060949 -0.006615 -0.008236  -0.032118   \n",
       "NAICS_61              -0.057109 -0.018791  0.009893 -0.003985   0.001523   \n",
       "NAICS_62              -0.071936 -0.023670 -0.000174 -0.003219  -0.007747   \n",
       "NAICS_71              -0.038532 -0.012679  0.013749 -0.002415   0.019581   \n",
       "NAICS_72              -0.081404 -0.026785 -0.000015 -0.000090   0.031343   \n",
       "NAICS_81               1.000000 -0.034319  0.010217 -0.003176  -0.018747   \n",
       "NAICS_92              -0.034319  1.000000 -0.006717 -0.001309  -0.007440   \n",
       "Duplex                 0.010217 -0.006717  1.000000 -0.005225  -0.039581   \n",
       "Fourplex              -0.003176 -0.001309 -0.005225  1.000000  -0.019777   \n",
       "High Rise             -0.018747 -0.007440 -0.039581 -0.019777   1.000000   \n",
       "Semi-Detached         -0.004920 -0.004454 -0.032788 -0.016382  -0.124095   \n",
       "Single Detached        0.010227  0.007652 -0.136754 -0.068329  -0.517584   \n",
       "Townhouse Condominium  0.016820  0.001173 -0.023690 -0.011837  -0.089663   \n",
       "Townhouse Freehold    -0.010240  0.000904 -0.027414 -0.013697  -0.103754   \n",
       "Triplex                0.012765  0.006053 -0.006653 -0.003324  -0.025181   \n",
       "\n",
       "                       Semi-Detached  Single Detached  Townhouse Condominium  \\\n",
       "PROPERTY VALUE             -0.065974         0.276201              -0.115163   \n",
       "GDS                        -0.001822         0.002148              -0.001319   \n",
       "LTV                         0.035093        -0.010719              -0.000383   \n",
       "TDS                        -0.001877         0.001836              -0.001351   \n",
       "AMORTIZATION                0.017715        -0.041197               0.001990   \n",
       "MORTGAGE AMOUNT            -0.052493         0.268623              -0.115041   \n",
       "RATE                       -0.020510         0.043905               0.006531   \n",
       "MORTGAGE PURPOSE            0.030377         0.152903              -0.027794   \n",
       "PAYMENT FREQUENCY           0.004369        -0.015296              -0.014444   \n",
       "TERM                        0.007774         0.011577               0.020259   \n",
       "AGE RANGE                  -0.011610         0.031838               0.002458   \n",
       "GENDER                     -0.012674         0.047766              -0.027958   \n",
       "INCOME                     -0.061829         0.091668              -0.063225   \n",
       "INCOME TYPE                -0.045821         0.060506              -0.052199   \n",
       "CREDIT SCORE               -0.007794        -0.083580              -0.013450   \n",
       "RESULT                      0.014932        -0.029302               0.015325   \n",
       "URBAN                       0.053948        -0.122929               0.037189   \n",
       "ZERO SCORE                  0.003367         0.001526               0.009788   \n",
       "RATIO                       0.010056         0.039290              -0.015606   \n",
       "RATE_X_CREDIT_SCORE        -0.025024        -0.026954              -0.005332   \n",
       "RATE_X_LTV                  0.024318         0.005474               0.004479   \n",
       "CREDIT_SCORE^2             -0.008214        -0.084022              -0.012540   \n",
       "INCOME^2                   -0.028620         0.036676              -0.022364   \n",
       "NAICS_11                   -0.008609         0.017316              -0.009154   \n",
       "NAICS_22                    0.002720        -0.010193              -0.005768   \n",
       "NAICS_23                   -0.018197         0.075484              -0.036250   \n",
       "NAICS_31-33                -0.002412         0.016071              -0.005893   \n",
       "NAICS_42                    0.003387        -0.005574              -0.001942   \n",
       "NAICS_44-45                -0.005059        -0.015500              -0.002248   \n",
       "NAICS_48-49                 0.018458         0.032616              -0.019763   \n",
       "NAICS_51                   -0.001679        -0.006646              -0.007601   \n",
       "NAICS_52                   -0.007744        -0.018439               0.003816   \n",
       "NAICS_53                   -0.026869        -0.020906              -0.014213   \n",
       "NAICS_54                   -0.009331        -0.026708               0.002791   \n",
       "NAICS_55                   -0.005093         0.000142              -0.004821   \n",
       "NAICS_56                    0.032610        -0.017173               0.030395   \n",
       "NAICS_61                    0.005721        -0.014282               0.010548   \n",
       "NAICS_62                    0.007273        -0.006674               0.005630   \n",
       "NAICS_71                   -0.004055        -0.015999              -0.000335   \n",
       "NAICS_72                   -0.002028        -0.022550               0.001747   \n",
       "NAICS_81                   -0.004920         0.010227               0.016820   \n",
       "NAICS_92                   -0.004454         0.007652               0.001173   \n",
       "Duplex                     -0.032788        -0.136754              -0.023690   \n",
       "Fourplex                   -0.016382        -0.068329              -0.011837   \n",
       "High Rise                  -0.124095        -0.517584              -0.089663   \n",
       "Semi-Detached               1.000000        -0.428751              -0.074274   \n",
       "Single Detached            -0.428751         1.000000              -0.309788   \n",
       "Townhouse Condominium      -0.074274        -0.309788               1.000000   \n",
       "Townhouse Freehold         -0.085947        -0.358475              -0.062100   \n",
       "Triplex                    -0.020859        -0.087002              -0.015072   \n",
       "\n",
       "                       Townhouse Freehold   Triplex  \n",
       "PROPERTY VALUE                  -0.076477  0.008045  \n",
       "GDS                              0.001386 -0.000387  \n",
       "LTV                              0.029533 -0.007606  \n",
       "TDS                             -0.000083 -0.000385  \n",
       "AMORTIZATION                     0.022357 -0.017017  \n",
       "MORTGAGE AMOUNT                 -0.063399  0.003045  \n",
       "RATE                            -0.038987  0.035795  \n",
       "MORTGAGE PURPOSE                -0.044510  0.026260  \n",
       "PAYMENT FREQUENCY               -0.007912  0.006977  \n",
       "TERM                             0.004150  0.003555  \n",
       "AGE RANGE                       -0.043719  0.010072  \n",
       "GENDER                          -0.022880  0.002806  \n",
       "INCOME                          -0.039792 -0.003743  \n",
       "INCOME TYPE                     -0.036536  0.010686  \n",
       "CREDIT SCORE                     0.010001  0.006910  \n",
       "RESULT                           0.010034 -0.013330  \n",
       "URBAN                            0.025303  0.009611  \n",
       "ZERO SCORE                      -0.006330  0.000156  \n",
       "RATIO                           -0.001631  0.015570  \n",
       "RATE_X_CREDIT_SCORE             -0.028218  0.039186  \n",
       "RATE_X_LTV                       0.012109  0.006378  \n",
       "CREDIT_SCORE^2                   0.010167  0.006893  \n",
       "INCOME^2                        -0.021453  0.004567  \n",
       "NAICS_11                        -0.009001 -0.001158  \n",
       "NAICS_22                         0.007004  0.006902  \n",
       "NAICS_23                        -0.033483 -0.008824  \n",
       "NAICS_31-33                     -0.003755 -0.004930  \n",
       "NAICS_42                         0.001082 -0.002998  \n",
       "NAICS_44-45                      0.006221  0.001073  \n",
       "NAICS_48-49                      0.003947 -0.005134  \n",
       "NAICS_51                         0.000758 -0.003648  \n",
       "NAICS_52                         0.007388 -0.002892  \n",
       "NAICS_53                        -0.009439  0.013215  \n",
       "NAICS_54                         0.004349 -0.002407  \n",
       "NAICS_55                        -0.005395  0.009100  \n",
       "NAICS_56                         0.017786 -0.007324  \n",
       "NAICS_61                         0.007660 -0.005545  \n",
       "NAICS_62                         0.010144  0.001560  \n",
       "NAICS_71                         0.001771  0.009611  \n",
       "NAICS_72                         0.001310  0.002285  \n",
       "NAICS_81                        -0.010240  0.012765  \n",
       "NAICS_92                         0.000904  0.006053  \n",
       "Duplex                          -0.027414 -0.006653  \n",
       "Fourplex                        -0.013697 -0.003324  \n",
       "High Rise                       -0.103754 -0.025181  \n",
       "Semi-Detached                   -0.085947 -0.020859  \n",
       "Single Detached                 -0.358475 -0.087002  \n",
       "Townhouse Condominium           -0.062100 -0.015072  \n",
       "Townhouse Freehold               1.000000 -0.017440  \n",
       "Triplex                         -0.017440  1.000000  \n",
       "\n",
       "[50 rows x 50 columns]"
      ]
     },
     "execution_count": 54,
     "metadata": {},
     "output_type": "execute_result"
    }
   ],
   "source": [
    "df.corr()"
   ]
  },
  {
   "cell_type": "code",
   "execution_count": 55,
   "metadata": {},
   "outputs": [
    {
     "data": {
      "image/png": "[encoded data removed]",
      "text/plain": [
       "<Figure size 1152x864 with 2 Axes>"
      ]
     },
     "metadata": {},
     "output_type": "display_data"
    }
   ],
   "source": [
    "corr = df.corr()\n",
    "\n",
    "mask = np.zeros_like(corr, dtype=np.bool)\n",
    "mask[np.triu_indices_from(mask)] = True\n",
    "\n",
    "# Set up the matplotlib figure\n",
    "f, ax = plt.subplots(figsize=(16, 12))\n",
    "\n",
    "# Generate a custom diverging colormap\n",
    "cmap = sns.diverging_palette(220, 10, as_cmap=True)\n",
    "\n",
    "# Draw the heatmap with the mask and correct aspect ratio\n",
    "sns.heatmap(corr, mask=mask, cmap=cmap, vmax=1, vmin=-1, center=0,\n",
    "            square=True, linewidths=.5, cbar_kws={\"shrink\": .75});"
   ]
  },
  {
   "cell_type": "code",
   "execution_count": null,
   "metadata": {},
   "outputs": [],
   "source": []
  },
  {
   "cell_type": "code",
   "execution_count": null,
   "metadata": {},
   "outputs": [],
   "source": []
  },
  {
   "cell_type": "code",
   "execution_count": null,
   "metadata": {},
   "outputs": [],
   "source": []
  },
  {
   "cell_type": "markdown",
   "metadata": {},
   "source": [
    "## BASELINE LOGISTIC REGRESSION"
   ]
  },
  {
   "cell_type": "code",
   "execution_count": 56,
   "metadata": {},
   "outputs": [],
   "source": [
    "from sklearn.metrics import accuracy_score, f1_score, confusion_matrix, precision_score, recall_score, roc_curve, roc_auc_score\n",
    "from sklearn.model_selection import train_test_split\n",
    "from sklearn.preprocessing import StandardScaler, MinMaxScaler\n",
    "from sklearn.linear_model import LogisticRegression\n",
    "\n",
    "from imblearn.over_sampling import SMOTE\n",
    "from imblearn.under_sampling import RandomUnderSampler\n",
    "from sklearn.preprocessing import PolynomialFeatures"
   ]
  },
  {
   "cell_type": "code",
   "execution_count": 57,
   "metadata": {},
   "outputs": [
    {
     "name": "stderr",
     "output_type": "stream",
     "text": [
      "/anaconda3/lib/python3.7/site-packages/sklearn/preprocessing/data.py:625: DataConversionWarning: Data with input dtype uint8, int64, float64 were all converted to float64 by StandardScaler.\n",
      "  return self.partial_fit(X, y)\n",
      "/anaconda3/lib/python3.7/site-packages/ipykernel_launcher.py:13: DataConversionWarning: Data with input dtype uint8, int64, float64 were all converted to float64 by StandardScaler.\n",
      "  del sys.path[0]\n",
      "/anaconda3/lib/python3.7/site-packages/ipykernel_launcher.py:14: DataConversionWarning: Data with input dtype uint8, int64, float64 were all converted to float64 by StandardScaler.\n",
      "  \n"
     ]
    }
   ],
   "source": [
    "def prepare_data(df):\n",
    "    \n",
    "    #Separate Target & Feature\n",
    "    y = df['RESULT']\n",
    "    features = df.drop(['RESULT'], axis=1)\n",
    "    \n",
    "    #Test Train Split\n",
    "    X_train, X_test, y_train, y_test = train_test_split(features, y, random_state=17, test_size = 0.2)\n",
    "    \n",
    "    #Scale Data\n",
    "    scaler = StandardScaler()\n",
    "    scaler.fit(X_train)\n",
    "    X_train = pd.DataFrame(data = scaler.transform(X_train), columns=features.columns)\n",
    "    X_test = pd.DataFrame(data = scaler.transform(X_test), columns=features.columns)\n",
    "    \n",
    "    return X_train, X_test, y_train, y_test, y, features\n",
    "\n",
    "X_train, X_test, y_train, y_test, y, features = prepare_data(df)"
   ]
  },
  {
   "cell_type": "code",
   "execution_count": 58,
   "metadata": {},
   "outputs": [],
   "source": [
    "# def poly_data(features, y):\n",
    "\n",
    "#     poly = PolynomialFeatures(degree=3, include_bias=False,)\n",
    "#     poly.fit(features)\n",
    "#     column_names = poly.get_feature_names(features.columns)\n",
    "#     df_poly = pd.DataFrame(poly.transform(features), columns=column_names)\n",
    "\n",
    "#     poly_X_train, poly_X_test, poly_y_train, poly_y_test = train_test_split(df_poly, y, random_state=34,test_size=0.2)\n",
    "    \n",
    "#     return poly_X_train, poly_X_test, poly_y_train, poly_y_test\n",
    "    \n",
    "# poly_X_train, poly_X_test, poly_y_train, poly_y_test = poly_data(features, y)"
   ]
  },
  {
   "cell_type": "markdown",
   "metadata": {},
   "source": [
    "## Regular Sample"
   ]
  },
  {
   "cell_type": "code",
   "execution_count": 59,
   "metadata": {},
   "outputs": [
    {
     "name": "stdout",
     "output_type": "stream",
     "text": [
      "Train Accuracy score:  0.7900253779101842\n",
      "Test Accuracy score:  0.7890323292507999 \n",
      "\n",
      "Train F1 score:  0.8821562374214323\n",
      "Test F1 score:  0.8816392224835954\n",
      "Testing Precision Score:  0.7917500555926174\n",
      "Testing Recall Score:  0.9945530726256984\n"
     ]
    },
    {
     "name": "stderr",
     "output_type": "stream",
     "text": [
      "/anaconda3/lib/python3.7/site-packages/sklearn/linear_model/sag.py:334: ConvergenceWarning: The max_iter was reached which means the coef_ did not converge\n",
      "  \"the coef_ did not converge\", ConvergenceWarning)\n"
     ]
    }
   ],
   "source": [
    "def baseline_logreg(X_train, X_test, y_train, y_test):\n",
    "\n",
    "    logreg = LogisticRegression(solver='saga', n_jobs=-1)\n",
    "    logreg.fit(X_train, y_train)\n",
    "    reg_predict = logreg.predict(X_test)\n",
    "\n",
    "    print('Train Accuracy score: ', accuracy_score(y_train, logreg.predict(X_train)))\n",
    "    print('Test Accuracy score: ', accuracy_score(y_test, reg_predict),'\\n')\n",
    "    print('Train F1 score: ', f1_score(y_train, logreg.predict(X_train)))\n",
    "    print('Test F1 score: ', f1_score(y_test, reg_predict))\n",
    "    print(\"Testing Precision Score: \", precision_score(y_test, reg_predict))\n",
    "    print(\"Testing Recall Score: \", recall_score(y_test, reg_predict))\n",
    "    \n",
    "    return reg_predict, logreg\n",
    "\n",
    "reg_predict, logreg = baseline_logreg(X_train, X_test, y_train, y_test)"
   ]
  },
  {
   "cell_type": "code",
   "execution_count": 60,
   "metadata": {},
   "outputs": [
    {
     "name": "stdout",
     "output_type": "stream",
     "text": [
      "Target Funded:  7160\n",
      "Target Not Funded:  1903\n",
      "Modeled Funded:  8994\n",
      "Modeled Not Funded:  69\n"
     ]
    }
   ],
   "source": [
    "print('Target Funded: ', (y_test == 1).sum())\n",
    "print('Target Not Funded: ', (y_test ==0).sum())\n",
    "print('Modeled Funded: ', (reg_predict == 1).sum())\n",
    "print('Modeled Not Funded: ', (reg_predict == 0).sum())"
   ]
  },
  {
   "cell_type": "code",
   "execution_count": 61,
   "metadata": {},
   "outputs": [
    {
     "data": {
      "image/png": "[encoded data removed]",
      "text/plain": [
       "<Figure size 648x648 with 2 Axes>"
      ]
     },
     "metadata": {},
     "output_type": "display_data"
    }
   ],
   "source": [
    "#Baseline Confusion Matrix\n",
    "cm_lr = confusion_matrix(y_test, reg_predict)\n",
    "sns.set_style('whitegrid')\n",
    "\n",
    "plt.figure(figsize = (9, 9))\n",
    "\n",
    "sns.heatmap(cm_lr, annot = True, fmt = 'g', linewidths = .5, square = True, cmap = \"Blues\");"
   ]
  },
  {
   "cell_type": "code",
   "execution_count": 62,
   "metadata": {},
   "outputs": [
    {
     "name": "stdout",
     "output_type": "stream",
     "text": [
      "AUC:  0.6617794015330102\n"
     ]
    },
    {
     "data": {
      "image/png": "[encoded data removed]",
      "text/plain": [
       "<Figure size 432x288 with 1 Axes>"
      ]
     },
     "metadata": {},
     "output_type": "display_data"
    }
   ],
   "source": [
    "#Baseline ROC Curve\n",
    "y_pred_prob = logreg.predict_proba(X_test)[:, 1]\n",
    "\n",
    "fpr, tpr, thresholds = roc_curve(y_test, y_pred_prob)\n",
    "plt.plot(fpr, tpr)\n",
    "plt.xlim([0.0, 1.0])\n",
    "plt.ylim([0.0, 1.0])\n",
    "plt.title('ROC Curve - Regular Sample')\n",
    "plt.xlabel('False Positive Rate (1 - Specificity)')\n",
    "plt.ylabel('True Positive Rate (Sensitivity)')\n",
    "plt.grid(True)\n",
    "\n",
    "print('AUC: ', roc_auc_score(y_test, y_pred_prob));"
   ]
  },
  {
   "cell_type": "code",
   "execution_count": 63,
   "metadata": {},
   "outputs": [
    {
     "data": {
      "text/plain": [
       "[('PAYMENT FREQUENCY', -0.8049135575099655),\n",
       " ('MORTGAGE PURPOSE', -0.26936357440558917),\n",
       " ('PROPERTY VALUE', -0.15062060460834104),\n",
       " ('RATE', -0.15019135402688435),\n",
       " ('RATE_X_CREDIT_SCORE', -0.14262664711827922),\n",
       " ('RATE_X_LTV', -0.13668048158627183),\n",
       " ('NAICS_54', -0.11258759346550405),\n",
       " ('MORTGAGE AMOUNT', -0.1046207171273961),\n",
       " ('LTV', 0.09787931641081615),\n",
       " ('NAICS_22', 0.05768465041502488),\n",
       " ('INCOME', 0.05692049383334736),\n",
       " ('AMORTIZATION', 0.04312996956928694),\n",
       " ('RESULT', 0.04300077894139126),\n",
       " ('NAICS_81', -0.0409005985558856),\n",
       " ('NAICS_72', -0.04088160756030376),\n",
       " ('URBAN', -0.0405552566527363),\n",
       " ('ZERO SCORE', 0.03365772722801706),\n",
       " ('Fourplex', -0.029785156761617082),\n",
       " ('NAICS_42', 0.02896665684786132),\n",
       " ('NAICS_92', -0.02883638795189633),\n",
       " ('High Rise', 0.027919572421677693),\n",
       " ('NAICS_52', 0.02706489808954982),\n",
       " ('TERM', 0.026847183560723412),\n",
       " ('NAICS_23', 0.026627636278792267),\n",
       " ('Duplex', -0.025904364306807568),\n",
       " ('NAICS_44-45', -0.02520572149219147),\n",
       " ('NAICS_71', 0.02462480345064377),\n",
       " ('RATIO', 0.024112546975344477),\n",
       " ('INCOME TYPE', 0.023162902963580284),\n",
       " ('GENDER', 0.022408260199478575),\n",
       " ('NAICS_51', -0.02096227135280678),\n",
       " ('NAICS_61', -0.020737268337484425),\n",
       " ('GDS', 0.01918166804420918),\n",
       " ('Semi-Detached', 0.01780571653467083),\n",
       " ('NAICS_48-49', 0.017724344391877332),\n",
       " ('NAICS_55', -0.01672171339481196),\n",
       " ('NAICS_11', 0.015731651596786977),\n",
       " ('Townhouse Freehold', -0.014342671055926237),\n",
       " ('NAICS_56', 0.013688519560459233),\n",
       " ('TDS', 0.013193285521965232),\n",
       " ('INCOME^2', -0.012889865895488893),\n",
       " ('NAICS_31-33', 0.0124897794427209),\n",
       " ('Townhouse Condominium', -0.011532492634705247),\n",
       " ('Single Detached', 0.006182258580791331),\n",
       " ('CREDIT SCORE', -0.003969459273800102),\n",
       " ('CREDIT_SCORE^2', 0.003065009821135509),\n",
       " ('NAICS_62', -0.0026485227651400233),\n",
       " ('NAICS_53', 0.0023602290761423517),\n",
       " ('AGE RANGE', 0.0009095870450819599)]"
      ]
     },
     "execution_count": 63,
     "metadata": {},
     "output_type": "execute_result"
    }
   ],
   "source": [
    "model_params = list(zip(df.columns, logreg.coef_[0]))\n",
    "\n",
    "model_params.sort(key = lambda x: abs(x[1]), reverse=True)\n",
    "model_params"
   ]
  },
  {
   "cell_type": "markdown",
   "metadata": {},
   "source": [
    "## SMOTE Over Sample"
   ]
  },
  {
   "cell_type": "code",
   "execution_count": 64,
   "metadata": {},
   "outputs": [
    {
     "name": "stdout",
     "output_type": "stream",
     "text": [
      "Train Accuracy score:  0.5837746882930597\n",
      "Test Accuracy score:  0.5808231269998897 \n",
      "\n",
      "Train F1 score:  0.6835294364395227\n",
      "Test F1 score:  0.6797066014669926\n"
     ]
    },
    {
     "name": "stderr",
     "output_type": "stream",
     "text": [
      "/anaconda3/lib/python3.7/site-packages/sklearn/linear_model/sag.py:334: ConvergenceWarning: The max_iter was reached which means the coef_ did not converge\n",
      "  \"the coef_ did not converge\", ConvergenceWarning)\n"
     ]
    }
   ],
   "source": [
    "def smote_logreg(X_train, X_test, y_train, y_test):\n",
    "    \n",
    "    sm = SMOTE(random_state=23, ratio=1.0)\n",
    "    X_train_smote, y_train_smote = sm.fit_sample(X_train, y_train)\n",
    "    \n",
    "    smote_lr = LogisticRegression(solver='saga', n_jobs=-1)\n",
    "    smote_lr.fit(X_train_smote, y_train_smote)\n",
    "    smote_pred = smote_lr.predict(X_test)\n",
    "    \n",
    "    print('Train Accuracy score: ', accuracy_score(y_train, smote_lr.predict(X_train)))\n",
    "    print('Test Accuracy score: ', accuracy_score(y_test, smote_pred),'\\n')\n",
    "    print('Train F1 score: ', f1_score(y_train, smote_lr.predict(X_train)))\n",
    "    print('Test F1 score: ', f1_score(y_test, smote_pred))\n",
    "    \n",
    "    return smote_pred, smote_lr, X_train_smote, y_train_smote\n",
    "\n",
    "smote_pred, smote_lr, X_train_smote, y_train_smote = smote_logreg(X_train, X_test, y_train, y_test)"
   ]
  },
  {
   "cell_type": "code",
   "execution_count": 65,
   "metadata": {},
   "outputs": [
    {
     "data": {
      "image/png": "[encoded data removed]",
      "text/plain": [
       "<Figure size 648x648 with 2 Axes>"
      ]
     },
     "metadata": {},
     "output_type": "display_data"
    }
   ],
   "source": [
    "#SMOTE Confusion Matrix\n",
    "cm_lr = confusion_matrix(y_test, smote_pred)\n",
    "sns.set_style('whitegrid')\n",
    "\n",
    "plt.figure(figsize = (9, 9))\n",
    "\n",
    "sns.heatmap(cm_lr, annot = True, fmt = \".3f\", linewidths = .5, square = True, cmap = \"Blues\");"
   ]
  },
  {
   "cell_type": "code",
   "execution_count": 66,
   "metadata": {},
   "outputs": [
    {
     "name": "stdout",
     "output_type": "stream",
     "text": [
      "AUC:  0.6622108725710948\n"
     ]
    },
    {
     "data": {
      "image/png": "[encoded data removed]",
      "text/plain": [
       "<Figure size 432x288 with 1 Axes>"
      ]
     },
     "metadata": {},
     "output_type": "display_data"
    }
   ],
   "source": [
    "#SMOTE ROC Curve\n",
    "smote_pred_prob = smote_lr.predict_proba(X_test)[:, 1]\n",
    "\n",
    "fpr, tpr, thresholds = roc_curve(y_test, smote_pred_prob)\n",
    "plt.plot(fpr, tpr)\n",
    "plt.xlim([0.0, 1.0])\n",
    "plt.ylim([0.0, 1.0])\n",
    "plt.title('ROC Curve  - SMOTE')\n",
    "plt.xlabel('False Positive Rate (1 - Specificity)')\n",
    "plt.ylabel('True Positive Rate (Sensitivity)')\n",
    "plt.grid(True)\n",
    "\n",
    "print('AUC: ', roc_auc_score(y_test, smote_pred_prob));"
   ]
  },
  {
   "cell_type": "markdown",
   "metadata": {},
   "source": [
    "## Random Under Sample"
   ]
  },
  {
   "cell_type": "code",
   "execution_count": 67,
   "metadata": {},
   "outputs": [
    {
     "name": "stdout",
     "output_type": "stream",
     "text": [
      "Train Accuracy score:  0.5919673397329802\n",
      "Test Accuracy score:  0.59472580823127 \n",
      "\n",
      "Train F1 score:  0.6916148938831672\n",
      "Test F1 score:  0.6935847167765079\n"
     ]
    }
   ],
   "source": [
    "def under_sample(X_train, X_test, y_train, y_test):\n",
    "    \n",
    "    rus = RandomUnderSampler(random_state=0)\n",
    "    X_train_rus, y_train_rus = rus.fit_resample(X_train, y_train)\n",
    "    \n",
    "    rus_lr = LogisticRegression(penalty = 'l1', solver='liblinear', n_jobs=1)\n",
    "    rus_lr.fit(X_train_rus, y_train_rus)\n",
    "    rus_pred = rus_lr.predict(X_test)\n",
    "\n",
    "    print('Train Accuracy score: ', accuracy_score(y_train, rus_lr.predict(X_train)))\n",
    "    print('Test Accuracy score: ', accuracy_score(y_test, rus_pred),'\\n')\n",
    "    print('Train F1 score: ', f1_score(y_train, rus_lr.predict(X_train)))\n",
    "    print('Test F1 score: ', f1_score(y_test, rus_pred))\n",
    "    \n",
    "    return rus_pred, rus_lr, X_train_rus, y_train_rus\n",
    "\n",
    "rus_pred, rus_lr, X_train_rus, y_train_rus = under_sample(X_train, X_test, y_train, y_test)"
   ]
  },
  {
   "cell_type": "code",
   "execution_count": 68,
   "metadata": {},
   "outputs": [
    {
     "data": {
      "image/png": "[encoded data removed]",
      "text/plain": [
       "<Figure size 648x648 with 2 Axes>"
      ]
     },
     "metadata": {},
     "output_type": "display_data"
    }
   ],
   "source": [
    "#Random Under Sampling Confusion Matrix\n",
    "cm_lr = confusion_matrix(y_test, rus_pred)\n",
    "sns.set_style('whitegrid')\n",
    "\n",
    "plt.figure(figsize = (9, 9))\n",
    "\n",
    "sns.heatmap(cm_lr, annot = True, fmt = \".3f\", linewidths = .5, square = True, cmap = \"Blues\");"
   ]
  },
  {
   "cell_type": "code",
   "execution_count": 69,
   "metadata": {},
   "outputs": [
    {
     "name": "stdout",
     "output_type": "stream",
     "text": [
      "AUC:  0.6616614974298154\n"
     ]
    },
    {
     "data": {
      "image/png": "[encoded data removed]",
      "text/plain": [
       "<Figure size 432x288 with 1 Axes>"
      ]
     },
     "metadata": {},
     "output_type": "display_data"
    }
   ],
   "source": [
    "#Random Under Sampling ROC Curve\n",
    "rus_pred_prob = rus_lr.predict_proba(X_test)[:, 1]\n",
    "\n",
    "fpr, tpr, thresholds = roc_curve(y_test, rus_pred_prob)\n",
    "plt.plot(fpr, tpr)\n",
    "plt.xlim([0.0, 1.0])\n",
    "plt.ylim([0.0, 1.0])\n",
    "plt.title('ROC Curve')\n",
    "plt.xlabel('False Positive Rate (1 - Specificity)')\n",
    "plt.ylabel('True Positive Rate (Sensitivity)')\n",
    "plt.grid(True)\n",
    "\n",
    "print('AUC: ', roc_auc_score(y_test, rus_pred_prob));"
   ]
  },
  {
   "cell_type": "code",
   "execution_count": 70,
   "metadata": {},
   "outputs": [],
   "source": [
    "# Drop Mortgage Payment\n",
    "#df = df.drop(['MORTGAGE PAYMENT'], axis=1)"
   ]
  },
  {
   "cell_type": "code",
   "execution_count": 71,
   "metadata": {},
   "outputs": [],
   "source": [
    "file = pd.read_csv('CAX_MortgageModeling_Test.csv')\n",
    "submission = pd.read_csv('CAX_MortgageModeling_SubmissionFormat.csv')\n",
    "\n",
    "test_df = pd.DataFrame(file)\n",
    "submission_df = pd.DataFrame(submission)\n",
    "\n",
    "test_df = test_df.drop(['RESULT'], axis=1)"
   ]
  },
  {
   "cell_type": "code",
   "execution_count": 72,
   "metadata": {},
   "outputs": [],
   "source": [
    "# def encode_test(df):\n",
    "    \n",
    "#     # Encode Age Range\n",
    "#     le_age_range = LabelEncoder()\n",
    "#     df['AGE RANGE'] = le_age_range.fit_transform(df['AGE RANGE'])\n",
    "#     df['AGE RANGE'] = df['AGE RANGE'].apply(lambda x: x + 1)\n",
    "#     df['AGE RANGE'] = df['AGE RANGE'].replace({11:0})\n",
    "    \n",
    "#     #Encode Amortization\n",
    "#     le_amortization = LabelEncoder()\n",
    "#     df['AMORTIZATION'] = le_amortization.fit_transform(df['AMORTIZATION'])\n",
    "    \n",
    "#     #Encode Mortgage Purpose\n",
    "#     le_purpose = LabelEncoder()\n",
    "#     df['MORTGAGE PURPOSE'] = le_purpose.fit_transform(df['MORTGAGE PURPOSE'])\n",
    "    \n",
    "#     #Encode Payment Frequency\n",
    "#     le_frequency = LabelEncoder()\n",
    "#     df['PAYMENT FREQUENCY'] = le_frequency.fit_transform(df['PAYMENT FREQUENCY'])\n",
    "    \n",
    "#     #Encode Gender\n",
    "#     le_gender = LabelEncoder()\n",
    "#     df['GENDER'] = le_gender.fit_transform(df['GENDER'])\n",
    "    \n",
    "#     #NAICS Dummy Variables\n",
    "#     #df_temp = pd.get_dummies(df['NAICS CODE'], prefix='NAICS', drop_first=True)\n",
    "#     #df = pd.concat([df, df_temp], axis=1)\n",
    "#     df.drop(['NAICS CODE'], axis=1, inplace=True)\n",
    "    \n",
    "#     #Property Type Dummy Variables\n",
    "#     df_temp = pd.get_dummies(df['PROPERTY TYPE'], drop_first=True)\n",
    "#     df = pd.concat([df, df_temp], axis=1)\n",
    "#     df.drop(['PROPERTY TYPE'], axis=1, inplace=True)\n",
    "    \n",
    "#     #Encode Territory Dummy Variables\n",
    "#     le_territory = LabelEncoder()\n",
    "#     df['TERRITORY'] = le_territory.fit_transform(df['TERRITORY'])\n",
    "    \n",
    "#     return df\n",
    "\n",
    "# test_df = encode_test(clean_data(test_df))"
   ]
  },
  {
   "cell_type": "code",
   "execution_count": 73,
   "metadata": {},
   "outputs": [],
   "source": [
    "# def run_test(df):\n",
    "    \n",
    "#     test_logreg = logreg.predict(df)\n",
    "\n",
    "#     test_logreg = np.where(test_logreg == 0, 'NOT FUNDED', 'FUNDED')\n",
    "    \n",
    "#     return test_logreg\n",
    "    \n",
    "# results = pd.DataFrame(run_test(test_df))"
   ]
  },
  {
   "cell_type": "code",
   "execution_count": 74,
   "metadata": {},
   "outputs": [],
   "source": [
    "# results[0].value_counts()"
   ]
  },
  {
   "cell_type": "code",
   "execution_count": 75,
   "metadata": {},
   "outputs": [
    {
     "name": "stdout",
     "output_type": "stream",
     "text": [
      "Training F1 Score: 0.7555323279080184\n",
      "Testing F1 Score: 0.8413141793030061\n",
      "Testing Precision Score:  0.803072625698324\n",
      "Testing Recall Score:  0.8833798882681564\n",
      "AUC:  0.5341754932670262\n"
     ]
    }
   ],
   "source": [
    "from sklearn.tree import DecisionTreeClassifier\n",
    "\n",
    "def decision_tree(X_train, X_test, y_train, y_test):\n",
    "    \n",
    "    dt_clf = DecisionTreeClassifier(criterion='entropy', max_depth=15, min_samples_leaf=3, min_impurity_decrease=0.001)\n",
    "    dt_clf = dt_clf.fit(X_train, y_train)\n",
    "    \n",
    "    y_pred_train = dt_clf.predict(X_train)\n",
    "    decision_tree_pred = dt_clf.predict(X_test)\n",
    "    \n",
    "    print(\"Training F1 Score:\", f1_score(y_train, y_pred_train))\n",
    "    print(\"Testing F1 Score:\", f1_score(y_test, decision_tree_pred))\n",
    "    print(\"Testing Precision Score: \", precision_score(y_test, decision_tree_pred))\n",
    "    print(\"Testing Recall Score: \", recall_score(y_test, decision_tree_pred))\n",
    "    print('AUC: ', roc_auc_score(y_test, decision_tree_pred))\n",
    "    \n",
    "    return decision_tree_pred, dt_clf\n",
    "\n",
    "decision_tree_pred, dt_clf = decision_tree(X_train_smote, X_test, y_train_smote, y_test)"
   ]
  },
  {
   "cell_type": "code",
   "execution_count": 76,
   "metadata": {},
   "outputs": [
    {
     "name": "stdout",
     "output_type": "stream",
     "text": [
      "Target Funded:  7160\n",
      "Target Not Funded:  1903\n",
      "Modeled Funded:  7876\n",
      "Modeled Not Funded:  1187\n"
     ]
    }
   ],
   "source": [
    "print('Target Funded: ', (y_test == 1).sum())\n",
    "print('Target Not Funded: ', (y_test ==0).sum())\n",
    "print('Modeled Funded: ', (decision_tree_pred == 1).sum())\n",
    "print('Modeled Not Funded: ', (decision_tree_pred == 0).sum())"
   ]
  },
  {
   "cell_type": "code",
   "execution_count": 77,
   "metadata": {},
   "outputs": [
    {
     "name": "stdout",
     "output_type": "stream",
     "text": [
      "Confusion matrix, without normalization\n",
      "[[ 352 1551]\n",
      " [ 835 6325]]\n",
      "Normalized confusion matrix\n",
      "[[0.18 0.82]\n",
      " [0.12 0.88]]\n"
     ]
    },
    {
     "data": {
      "image/png": "[encoded data removed]",
      "text/plain": [
       "<Figure size 432x288 with 2 Axes>"
      ]
     },
     "metadata": {},
     "output_type": "display_data"
    },
    {
     "data": {
      "image/png": "[encoded data removed]",
      "text/plain": [
       "<Figure size 432x288 with 2 Axes>"
      ]
     },
     "metadata": {},
     "output_type": "display_data"
    }
   ],
   "source": [
    "import itertools\n",
    "\n",
    "class_names = np.unique(decision_tree_pred)\n",
    "\n",
    "def plot_confusion_matrix(cm, classes,\n",
    "                          normalize=False,\n",
    "                          title='Confusion Matrix',\n",
    "                          cmap=plt.cm.Blues):\n",
    "    \"\"\"\n",
    "    This function prints and plots the confusion matrix.\n",
    "    Normalization can be applied by setting `normalize=True`.\n",
    "    \"\"\"\n",
    "    if normalize:\n",
    "        cm = cm.astype('float') / cm.sum(axis=1)[:, np.newaxis]\n",
    "        print(\"Normalized confusion matrix\")\n",
    "    else:\n",
    "        print('Confusion matrix, without normalization')\n",
    "\n",
    "    print(cm)\n",
    "\n",
    "    plt.imshow(cm, interpolation='nearest', cmap=cmap)\n",
    "    plt.title(title)\n",
    "    plt.colorbar()\n",
    "    tick_marks = np.arange(len(classes))\n",
    "    plt.xticks(tick_marks, classes, rotation=45)\n",
    "    plt.yticks(tick_marks, classes)\n",
    "\n",
    "    fmt = '.2f' if normalize else 'd'\n",
    "    thresh = cm.max() / 2.\n",
    "    for i, j in itertools.product(range(cm.shape[0]), range(cm.shape[1])):\n",
    "        plt.text(j, i, format(cm[i, j], fmt),\n",
    "                 horizontalalignment=\"center\",\n",
    "                 color=\"white\" if cm[i, j] > thresh else \"black\")\n",
    "\n",
    "    plt.tight_layout()\n",
    "    plt.ylabel('True label')\n",
    "    plt.xlabel('Predicted label')\n",
    "\n",
    "# Compute confusion matrix\n",
    "cnf_matrix = confusion_matrix(y_test, decision_tree_pred)\n",
    "np.set_printoptions(precision=2)\n",
    "\n",
    "# Plot non-normalized confusion matrix\n",
    "plt.figure()\n",
    "plot_confusion_matrix(cnf_matrix, classes=class_names,\n",
    "                      title='Confusion matrix, without normalization')\n",
    "\n",
    "# Plot normalized confusion matrix\n",
    "plt.figure()\n",
    "plot_confusion_matrix(cnf_matrix, classes=class_names, normalize=True,\n",
    "                      title='Normalized confusion matrix')\n",
    "\n",
    "plt.show();"
   ]
  },
  {
   "cell_type": "code",
   "execution_count": 78,
   "metadata": {},
   "outputs": [
    {
     "ename": "NameError",
     "evalue": "name 'importances' is not defined",
     "output_type": "error",
     "traceback": [
      "\u001b[0;31m---------------------------------------------------------------------------\u001b[0m",
      "\u001b[0;31mNameError\u001b[0m                                 Traceback (most recent call last)",
      "\u001b[0;32m<ipython-input-78-e9405f9ea5cc>\u001b[0m in \u001b[0;36m<module>\u001b[0;34m\u001b[0m\n\u001b[0;32m----> 1\u001b[0;31m \u001b[0mimportances\u001b[0m\u001b[0;34m.\u001b[0m\u001b[0mshape\u001b[0m\u001b[0;34m\u001b[0m\u001b[0;34m\u001b[0m\u001b[0m\n\u001b[0m",
      "\u001b[0;31mNameError\u001b[0m: name 'importances' is not defined"
     ]
    }
   ],
   "source": [
    "importances.shape"
   ]
  },
  {
   "cell_type": "code",
   "execution_count": 79,
   "metadata": {},
   "outputs": [
    {
     "data": {
      "image/png": "[encoded data removed]",
      "text/plain": [
       "<Figure size 864x864 with 1 Axes>"
      ]
     },
     "metadata": {},
     "output_type": "display_data"
    }
   ],
   "source": [
    "importances = dt_clf.feature_importances_\n",
    "\n",
    "indices = np.argsort(importances)[::-1]\n",
    "\n",
    "# Rearrange feature names so they match the sorted feature importances\n",
    "names = [features.columns[i] for i in indices]\n",
    "\n",
    "# Create plot\n",
    "plt.figure(figsize=(12,12))\n",
    "\n",
    "# Create plot title\n",
    "plt.title(\"Feature Importance\")\n",
    "\n",
    "# Add bars\n",
    "plt.bar(range(features.shape[1]), importances[indices])\n",
    "\n",
    "# Add feature names as x-axis labels\n",
    "plt.xticks(range(features.shape[1]), names, rotation=90)\n",
    "\n",
    "# Show plot\n",
    "plt.show();"
   ]
  },
  {
   "cell_type": "code",
   "execution_count": 80,
   "metadata": {},
   "outputs": [
    {
     "name": "stdout",
     "output_type": "stream",
     "text": [
      "AUC:  0.5976072402586916\n"
     ]
    },
    {
     "data": {
      "image/png": "[encoded data removed]",
      "text/plain": [
       "<Figure size 432x288 with 1 Axes>"
      ]
     },
     "metadata": {},
     "output_type": "display_data"
    }
   ],
   "source": [
    "decision_tree_prob = dt_clf.predict_proba(X_test)[:, 1]\n",
    "\n",
    "fpr, tpr, thresholds = roc_curve(y_test, decision_tree_prob)\n",
    "plt.plot(fpr, tpr)\n",
    "plt.xlim([0.0, 1.0])\n",
    "plt.ylim([0.0, 1.0])\n",
    "plt.title('ROC Curve')\n",
    "plt.xlabel('False Positive Rate (1 - Specificity)')\n",
    "plt.ylabel('True Positive Rate (Sensitivity)')\n",
    "plt.grid(True)\n",
    "\n",
    "print('AUC: ', roc_auc_score(y_test, decision_tree_prob));"
   ]
  },
  {
   "cell_type": "code",
   "execution_count": 84,
   "metadata": {},
   "outputs": [],
   "source": [
    "from sklearn.model_selection import GridSearchCV, RandomizedSearchCV"
   ]
  },
  {
   "cell_type": "code",
   "execution_count": 82,
   "metadata": {},
   "outputs": [],
   "source": [
    "# # Create regularization penalty space\n",
    "# penalty = ['l1', 'l2']\n",
    "\n",
    "# # Create regularization hyperparameter space\n",
    "# C = C_param_range = [0.001, 0.01, 0.1, 0.5, 1, 2, 5, 10,]\n",
    "\n",
    "# # Create hyperparameter options\n",
    "# hyperparameters_1 = dict(C=C, penalty=penalty)"
   ]
  },
  {
   "cell_type": "code",
   "execution_count": 229,
   "metadata": {},
   "outputs": [],
   "source": [
    "# # Create grid search using 5-fold cross validation\n",
    "# clf_gs = GridSearchCV(dt_clf, hyperparameters, cv=5, scoring='f1')"
   ]
  },
  {
   "cell_type": "code",
   "execution_count": 908,
   "metadata": {},
   "outputs": [],
   "source": [
    "# model = clf_gs.fit(X_train, y_train)"
   ]
  },
  {
   "cell_type": "code",
   "execution_count": 87,
   "metadata": {},
   "outputs": [
    {
     "name": "stdout",
     "output_type": "stream",
     "text": [
      "0.7605202735957619\n",
      "{'min_samples_leaf': 8, 'min_impurity_decrease': 0.001, 'max_depth': 16, 'criterion': 'entropy'}\n",
      "DecisionTreeClassifier(class_weight=None, criterion='entropy', max_depth=16,\n",
      "            max_features=None, max_leaf_nodes=None,\n",
      "            min_impurity_decrease=0.001, min_impurity_split=None,\n",
      "            min_samples_leaf=8, min_samples_split=2,\n",
      "            min_weight_fraction_leaf=0.0, presort=False, random_state=None,\n",
      "            splitter='best')\n"
     ]
    }
   ],
   "source": [
    "clf = DecisionTreeClassifier()\n",
    "\n",
    "param_distributions = {\n",
    "              'criterion': ['entropy', 'gini'],\n",
    "              'max_depth': range(3,30, 1), \n",
    "              'min_samples_leaf': range(1,15,1),\n",
    "              'min_impurity_decrease': [0.001, 0.005, 0.01]\n",
    "             }\n",
    "\n",
    "randomized_search = RandomizedSearchCV(estimator=clf,cv=5, param_distributions=param_distributions,scoring='f1')\n",
    "randomized_search = randomized_search.fit(X_train_smote, y_train_smote)\n",
    "\n",
    "best_clf = randomized_search.best_estimator_\n",
    "\n",
    "print(randomized_search.best_score_)\n",
    "print(randomized_search.best_params_)\n",
    "print(randomized_search.best_estimator_)"
   ]
  },
  {
   "cell_type": "code",
   "execution_count": 88,
   "metadata": {},
   "outputs": [
    {
     "data": {
      "text/plain": [
       "0.8498557566220823"
      ]
     },
     "execution_count": 88,
     "metadata": {},
     "output_type": "execute_result"
    }
   ],
   "source": [
    "f1_score(y_test, best_clf.predict(X_test))"
   ]
  },
  {
   "cell_type": "code",
   "execution_count": 789,
   "metadata": {},
   "outputs": [],
   "source": [
    "from sklearn.ensemble import RandomForestClassifier\n",
    "rfc = RandomForestClassifier(random_state = 23, n_estimators=100, max_depth=8)"
   ]
  },
  {
   "cell_type": "code",
   "execution_count": 790,
   "metadata": {},
   "outputs": [
    {
     "data": {
      "text/plain": [
       "RandomForestClassifier(bootstrap=True, class_weight=None, criterion='gini',\n",
       "            max_depth=8, max_features='auto', max_leaf_nodes=None,\n",
       "            min_impurity_decrease=0.0, min_impurity_split=None,\n",
       "            min_samples_leaf=1, min_samples_split=2,\n",
       "            min_weight_fraction_leaf=0.0, n_estimators=100, n_jobs=None,\n",
       "            oob_score=False, random_state=23, verbose=0, warm_start=False)"
      ]
     },
     "execution_count": 790,
     "metadata": {},
     "output_type": "execute_result"
    },
    {
     "name": "stdout",
     "output_type": "stream",
     "text": [
      "Test Accuracy score:  0.6559874537918674\n",
      "Test F1 score:  0.7670838073568449\n"
     ]
    }
   ],
   "source": [
    "rfc.fit(X_train_smote, y_train_smote)\n",
    "rfc_pred = rfc.predict(X_test)\n",
    "\n",
    "# checking accuracy\n",
    "print('Test Accuracy score: ', accuracy_score(y_test, rfc_pred))\n",
    "print('Test F1 score: ', f1_score(y_test, rfc_pred))"
   ]
  },
  {
   "cell_type": "code",
   "execution_count": 791,
   "metadata": {},
   "outputs": [
    {
     "name": "stdout",
     "output_type": "stream",
     "text": [
      "Target Funded:  7043\n",
      "Target Not Funded:  1884\n",
      "Modeled Funded:  6142\n",
      "Modeled Not Funded:  2785\n"
     ]
    }
   ],
   "source": [
    "print('Target Funded: ', (y_test == 1).sum())\n",
    "print('Target Not Funded: ', (y_test ==0).sum())\n",
    "print('Modeled Funded: ', (rfc_pred == 1).sum())\n",
    "print('Modeled Not Funded: ', (rfc_pred == 0).sum())"
   ]
  },
  {
   "cell_type": "code",
   "execution_count": 792,
   "metadata": {},
   "outputs": [
    {
     "data": {
      "image/png": "[encoded data removed]",
      "text/plain": [
       "<Figure size 648x648 with 2 Axes>"
      ]
     },
     "metadata": {},
     "output_type": "display_data"
    }
   ],
   "source": [
    "cm_lr = confusion_matrix(y_test, rfc_pred)\n",
    "sns.set_style('whitegrid')\n",
    "\n",
    "plt.figure(figsize = (9, 9))\n",
    "\n",
    "sns.heatmap(cm_lr, annot = True, fmt = \".3f\", linewidths = .5, square = True, cmap = \"Blues\");"
   ]
  },
  {
   "cell_type": "code",
   "execution_count": 1,
   "metadata": {},
   "outputs": [],
   "source": [
    "from numpy import loadtxt\n",
    "from numpy import sort\n",
    "from xgboost import XGBClassifier\n",
    "from sklearn.model_selection import train_test_split\n",
    "from sklearn.metrics import accuracy_score\n",
    "from sklearn.feature_selection import SelectFromModel"
   ]
  },
  {
   "cell_type": "code",
   "execution_count": 2,
   "metadata": {},
   "outputs": [],
   "source": [
    "import os\n",
    "os.environ[\"KMP_DUPLICATE_LIB_OK\"]= \"True\""
   ]
  },
  {
   "cell_type": "code",
   "execution_count": 36,
   "metadata": {},
   "outputs": [
    {
     "data": {
      "text/plain": [
       "XGBClassifier(base_score=0.5, booster='gbtree', colsample_bylevel=1,\n",
       "       colsample_bytree=1, gamma=0, learning_rate=0.1, max_delta_step=0,\n",
       "       max_depth=3, min_child_weight=1, missing=None, n_estimators=100,\n",
       "       n_jobs=1, nthread=None, objective='binary:logistic', random_state=0,\n",
       "       reg_alpha=0, reg_lambda=1, scale_pos_weight=1, seed=None,\n",
       "       silent=True, subsample=1)"
      ]
     },
     "execution_count": 36,
     "metadata": {},
     "output_type": "execute_result"
    },
    {
     "name": "stdout",
     "output_type": "stream",
     "text": [
      "Accuracy: 78.43%\n"
     ]
    },
    {
     "data": {
      "text/plain": [
       "XGBClassifier(base_score=0.5, booster='gbtree', colsample_bylevel=1,\n",
       "       colsample_bytree=1, gamma=0, learning_rate=0.1, max_delta_step=0,\n",
       "       max_depth=3, min_child_weight=1, missing=None, n_estimators=100,\n",
       "       n_jobs=1, nthread=None, objective='binary:logistic', random_state=0,\n",
       "       reg_alpha=0, reg_lambda=1, scale_pos_weight=1, seed=None,\n",
       "       silent=True, subsample=1)"
      ]
     },
     "execution_count": 36,
     "metadata": {},
     "output_type": "execute_result"
    },
    {
     "name": "stdout",
     "output_type": "stream",
     "text": [
      "Thresh=0.000, n=26, Accuracy: 78.43%\n"
     ]
    },
    {
     "data": {
      "text/plain": [
       "XGBClassifier(base_score=0.5, booster='gbtree', colsample_bylevel=1,\n",
       "       colsample_bytree=1, gamma=0, learning_rate=0.1, max_delta_step=0,\n",
       "       max_depth=3, min_child_weight=1, missing=None, n_estimators=100,\n",
       "       n_jobs=1, nthread=None, objective='binary:logistic', random_state=0,\n",
       "       reg_alpha=0, reg_lambda=1, scale_pos_weight=1, seed=None,\n",
       "       silent=True, subsample=1)"
      ]
     },
     "execution_count": 36,
     "metadata": {},
     "output_type": "execute_result"
    },
    {
     "name": "stdout",
     "output_type": "stream",
     "text": [
      "Thresh=0.000, n=26, Accuracy: 78.43%\n"
     ]
    },
    {
     "data": {
      "text/plain": [
       "XGBClassifier(base_score=0.5, booster='gbtree', colsample_bylevel=1,\n",
       "       colsample_bytree=1, gamma=0, learning_rate=0.1, max_delta_step=0,\n",
       "       max_depth=3, min_child_weight=1, missing=None, n_estimators=100,\n",
       "       n_jobs=1, nthread=None, objective='binary:logistic', random_state=0,\n",
       "       reg_alpha=0, reg_lambda=1, scale_pos_weight=1, seed=None,\n",
       "       silent=True, subsample=1)"
      ]
     },
     "execution_count": 36,
     "metadata": {},
     "output_type": "execute_result"
    },
    {
     "name": "stdout",
     "output_type": "stream",
     "text": [
      "Thresh=0.000, n=26, Accuracy: 78.43%\n"
     ]
    },
    {
     "data": {
      "text/plain": [
       "XGBClassifier(base_score=0.5, booster='gbtree', colsample_bylevel=1,\n",
       "       colsample_bytree=1, gamma=0, learning_rate=0.1, max_delta_step=0,\n",
       "       max_depth=3, min_child_weight=1, missing=None, n_estimators=100,\n",
       "       n_jobs=1, nthread=None, objective='binary:logistic', random_state=0,\n",
       "       reg_alpha=0, reg_lambda=1, scale_pos_weight=1, seed=None,\n",
       "       silent=True, subsample=1)"
      ]
     },
     "execution_count": 36,
     "metadata": {},
     "output_type": "execute_result"
    },
    {
     "name": "stdout",
     "output_type": "stream",
     "text": [
      "Thresh=0.000, n=26, Accuracy: 78.43%\n"
     ]
    },
    {
     "data": {
      "text/plain": [
       "XGBClassifier(base_score=0.5, booster='gbtree', colsample_bylevel=1,\n",
       "       colsample_bytree=1, gamma=0, learning_rate=0.1, max_delta_step=0,\n",
       "       max_depth=3, min_child_weight=1, missing=None, n_estimators=100,\n",
       "       n_jobs=1, nthread=None, objective='binary:logistic', random_state=0,\n",
       "       reg_alpha=0, reg_lambda=1, scale_pos_weight=1, seed=None,\n",
       "       silent=True, subsample=1)"
      ]
     },
     "execution_count": 36,
     "metadata": {},
     "output_type": "execute_result"
    },
    {
     "name": "stdout",
     "output_type": "stream",
     "text": [
      "Thresh=0.000, n=26, Accuracy: 78.43%\n"
     ]
    },
    {
     "data": {
      "text/plain": [
       "XGBClassifier(base_score=0.5, booster='gbtree', colsample_bylevel=1,\n",
       "       colsample_bytree=1, gamma=0, learning_rate=0.1, max_delta_step=0,\n",
       "       max_depth=3, min_child_weight=1, missing=None, n_estimators=100,\n",
       "       n_jobs=1, nthread=None, objective='binary:logistic', random_state=0,\n",
       "       reg_alpha=0, reg_lambda=1, scale_pos_weight=1, seed=None,\n",
       "       silent=True, subsample=1)"
      ]
     },
     "execution_count": 36,
     "metadata": {},
     "output_type": "execute_result"
    },
    {
     "name": "stdout",
     "output_type": "stream",
     "text": [
      "Thresh=0.022, n=21, Accuracy: 78.43%\n"
     ]
    },
    {
     "data": {
      "text/plain": [
       "XGBClassifier(base_score=0.5, booster='gbtree', colsample_bylevel=1,\n",
       "       colsample_bytree=1, gamma=0, learning_rate=0.1, max_delta_step=0,\n",
       "       max_depth=3, min_child_weight=1, missing=None, n_estimators=100,\n",
       "       n_jobs=1, nthread=None, objective='binary:logistic', random_state=0,\n",
       "       reg_alpha=0, reg_lambda=1, scale_pos_weight=1, seed=None,\n",
       "       silent=True, subsample=1)"
      ]
     },
     "execution_count": 36,
     "metadata": {},
     "output_type": "execute_result"
    },
    {
     "name": "stdout",
     "output_type": "stream",
     "text": [
      "Thresh=0.024, n=20, Accuracy: 78.50%\n"
     ]
    },
    {
     "data": {
      "text/plain": [
       "XGBClassifier(base_score=0.5, booster='gbtree', colsample_bylevel=1,\n",
       "       colsample_bytree=1, gamma=0, learning_rate=0.1, max_delta_step=0,\n",
       "       max_depth=3, min_child_weight=1, missing=None, n_estimators=100,\n",
       "       n_jobs=1, nthread=None, objective='binary:logistic', random_state=0,\n",
       "       reg_alpha=0, reg_lambda=1, scale_pos_weight=1, seed=None,\n",
       "       silent=True, subsample=1)"
      ]
     },
     "execution_count": 36,
     "metadata": {},
     "output_type": "execute_result"
    },
    {
     "name": "stdout",
     "output_type": "stream",
     "text": [
      "Thresh=0.025, n=19, Accuracy: 78.47%\n"
     ]
    },
    {
     "data": {
      "text/plain": [
       "XGBClassifier(base_score=0.5, booster='gbtree', colsample_bylevel=1,\n",
       "       colsample_bytree=1, gamma=0, learning_rate=0.1, max_delta_step=0,\n",
       "       max_depth=3, min_child_weight=1, missing=None, n_estimators=100,\n",
       "       n_jobs=1, nthread=None, objective='binary:logistic', random_state=0,\n",
       "       reg_alpha=0, reg_lambda=1, scale_pos_weight=1, seed=None,\n",
       "       silent=True, subsample=1)"
      ]
     },
     "execution_count": 36,
     "metadata": {},
     "output_type": "execute_result"
    },
    {
     "name": "stdout",
     "output_type": "stream",
     "text": [
      "Thresh=0.027, n=18, Accuracy: 78.47%\n"
     ]
    },
    {
     "data": {
      "text/plain": [
       "XGBClassifier(base_score=0.5, booster='gbtree', colsample_bylevel=1,\n",
       "       colsample_bytree=1, gamma=0, learning_rate=0.1, max_delta_step=0,\n",
       "       max_depth=3, min_child_weight=1, missing=None, n_estimators=100,\n",
       "       n_jobs=1, nthread=None, objective='binary:logistic', random_state=0,\n",
       "       reg_alpha=0, reg_lambda=1, scale_pos_weight=1, seed=None,\n",
       "       silent=True, subsample=1)"
      ]
     },
     "execution_count": 36,
     "metadata": {},
     "output_type": "execute_result"
    },
    {
     "name": "stdout",
     "output_type": "stream",
     "text": [
      "Thresh=0.028, n=17, Accuracy: 78.46%\n"
     ]
    },
    {
     "data": {
      "text/plain": [
       "XGBClassifier(base_score=0.5, booster='gbtree', colsample_bylevel=1,\n",
       "       colsample_bytree=1, gamma=0, learning_rate=0.1, max_delta_step=0,\n",
       "       max_depth=3, min_child_weight=1, missing=None, n_estimators=100,\n",
       "       n_jobs=1, nthread=None, objective='binary:logistic', random_state=0,\n",
       "       reg_alpha=0, reg_lambda=1, scale_pos_weight=1, seed=None,\n",
       "       silent=True, subsample=1)"
      ]
     },
     "execution_count": 36,
     "metadata": {},
     "output_type": "execute_result"
    },
    {
     "name": "stdout",
     "output_type": "stream",
     "text": [
      "Thresh=0.029, n=16, Accuracy: 78.46%\n"
     ]
    },
    {
     "data": {
      "text/plain": [
       "XGBClassifier(base_score=0.5, booster='gbtree', colsample_bylevel=1,\n",
       "       colsample_bytree=1, gamma=0, learning_rate=0.1, max_delta_step=0,\n",
       "       max_depth=3, min_child_weight=1, missing=None, n_estimators=100,\n",
       "       n_jobs=1, nthread=None, objective='binary:logistic', random_state=0,\n",
       "       reg_alpha=0, reg_lambda=1, scale_pos_weight=1, seed=None,\n",
       "       silent=True, subsample=1)"
      ]
     },
     "execution_count": 36,
     "metadata": {},
     "output_type": "execute_result"
    },
    {
     "name": "stdout",
     "output_type": "stream",
     "text": [
      "Thresh=0.029, n=15, Accuracy: 78.42%\n"
     ]
    },
    {
     "data": {
      "text/plain": [
       "XGBClassifier(base_score=0.5, booster='gbtree', colsample_bylevel=1,\n",
       "       colsample_bytree=1, gamma=0, learning_rate=0.1, max_delta_step=0,\n",
       "       max_depth=3, min_child_weight=1, missing=None, n_estimators=100,\n",
       "       n_jobs=1, nthread=None, objective='binary:logistic', random_state=0,\n",
       "       reg_alpha=0, reg_lambda=1, scale_pos_weight=1, seed=None,\n",
       "       silent=True, subsample=1)"
      ]
     },
     "execution_count": 36,
     "metadata": {},
     "output_type": "execute_result"
    },
    {
     "name": "stdout",
     "output_type": "stream",
     "text": [
      "Thresh=0.030, n=14, Accuracy: 78.40%\n"
     ]
    },
    {
     "data": {
      "text/plain": [
       "XGBClassifier(base_score=0.5, booster='gbtree', colsample_bylevel=1,\n",
       "       colsample_bytree=1, gamma=0, learning_rate=0.1, max_delta_step=0,\n",
       "       max_depth=3, min_child_weight=1, missing=None, n_estimators=100,\n",
       "       n_jobs=1, nthread=None, objective='binary:logistic', random_state=0,\n",
       "       reg_alpha=0, reg_lambda=1, scale_pos_weight=1, seed=None,\n",
       "       silent=True, subsample=1)"
      ]
     },
     "execution_count": 36,
     "metadata": {},
     "output_type": "execute_result"
    },
    {
     "name": "stdout",
     "output_type": "stream",
     "text": [
      "Thresh=0.031, n=13, Accuracy: 78.43%\n"
     ]
    },
    {
     "data": {
      "text/plain": [
       "XGBClassifier(base_score=0.5, booster='gbtree', colsample_bylevel=1,\n",
       "       colsample_bytree=1, gamma=0, learning_rate=0.1, max_delta_step=0,\n",
       "       max_depth=3, min_child_weight=1, missing=None, n_estimators=100,\n",
       "       n_jobs=1, nthread=None, objective='binary:logistic', random_state=0,\n",
       "       reg_alpha=0, reg_lambda=1, scale_pos_weight=1, seed=None,\n",
       "       silent=True, subsample=1)"
      ]
     },
     "execution_count": 36,
     "metadata": {},
     "output_type": "execute_result"
    },
    {
     "name": "stdout",
     "output_type": "stream",
     "text": [
      "Thresh=0.031, n=12, Accuracy: 78.39%\n"
     ]
    },
    {
     "data": {
      "text/plain": [
       "XGBClassifier(base_score=0.5, booster='gbtree', colsample_bylevel=1,\n",
       "       colsample_bytree=1, gamma=0, learning_rate=0.1, max_delta_step=0,\n",
       "       max_depth=3, min_child_weight=1, missing=None, n_estimators=100,\n",
       "       n_jobs=1, nthread=None, objective='binary:logistic', random_state=0,\n",
       "       reg_alpha=0, reg_lambda=1, scale_pos_weight=1, seed=None,\n",
       "       silent=True, subsample=1)"
      ]
     },
     "execution_count": 36,
     "metadata": {},
     "output_type": "execute_result"
    },
    {
     "name": "stdout",
     "output_type": "stream",
     "text": [
      "Thresh=0.032, n=11, Accuracy: 78.32%\n"
     ]
    },
    {
     "data": {
      "text/plain": [
       "XGBClassifier(base_score=0.5, booster='gbtree', colsample_bylevel=1,\n",
       "       colsample_bytree=1, gamma=0, learning_rate=0.1, max_delta_step=0,\n",
       "       max_depth=3, min_child_weight=1, missing=None, n_estimators=100,\n",
       "       n_jobs=1, nthread=None, objective='binary:logistic', random_state=0,\n",
       "       reg_alpha=0, reg_lambda=1, scale_pos_weight=1, seed=None,\n",
       "       silent=True, subsample=1)"
      ]
     },
     "execution_count": 36,
     "metadata": {},
     "output_type": "execute_result"
    },
    {
     "name": "stdout",
     "output_type": "stream",
     "text": [
      "Thresh=0.033, n=10, Accuracy: 78.42%\n"
     ]
    },
    {
     "data": {
      "text/plain": [
       "XGBClassifier(base_score=0.5, booster='gbtree', colsample_bylevel=1,\n",
       "       colsample_bytree=1, gamma=0, learning_rate=0.1, max_delta_step=0,\n",
       "       max_depth=3, min_child_weight=1, missing=None, n_estimators=100,\n",
       "       n_jobs=1, nthread=None, objective='binary:logistic', random_state=0,\n",
       "       reg_alpha=0, reg_lambda=1, scale_pos_weight=1, seed=None,\n",
       "       silent=True, subsample=1)"
      ]
     },
     "execution_count": 36,
     "metadata": {},
     "output_type": "execute_result"
    },
    {
     "name": "stdout",
     "output_type": "stream",
     "text": [
      "Thresh=0.041, n=9, Accuracy: 78.33%\n"
     ]
    },
    {
     "data": {
      "text/plain": [
       "XGBClassifier(base_score=0.5, booster='gbtree', colsample_bylevel=1,\n",
       "       colsample_bytree=1, gamma=0, learning_rate=0.1, max_delta_step=0,\n",
       "       max_depth=3, min_child_weight=1, missing=None, n_estimators=100,\n",
       "       n_jobs=1, nthread=None, objective='binary:logistic', random_state=0,\n",
       "       reg_alpha=0, reg_lambda=1, scale_pos_weight=1, seed=None,\n",
       "       silent=True, subsample=1)"
      ]
     },
     "execution_count": 36,
     "metadata": {},
     "output_type": "execute_result"
    },
    {
     "name": "stdout",
     "output_type": "stream",
     "text": [
      "Thresh=0.043, n=8, Accuracy: 78.31%\n"
     ]
    },
    {
     "data": {
      "text/plain": [
       "XGBClassifier(base_score=0.5, booster='gbtree', colsample_bylevel=1,\n",
       "       colsample_bytree=1, gamma=0, learning_rate=0.1, max_delta_step=0,\n",
       "       max_depth=3, min_child_weight=1, missing=None, n_estimators=100,\n",
       "       n_jobs=1, nthread=None, objective='binary:logistic', random_state=0,\n",
       "       reg_alpha=0, reg_lambda=1, scale_pos_weight=1, seed=None,\n",
       "       silent=True, subsample=1)"
      ]
     },
     "execution_count": 36,
     "metadata": {},
     "output_type": "execute_result"
    },
    {
     "name": "stdout",
     "output_type": "stream",
     "text": [
      "Thresh=0.049, n=7, Accuracy: 78.40%\n"
     ]
    },
    {
     "data": {
      "text/plain": [
       "XGBClassifier(base_score=0.5, booster='gbtree', colsample_bylevel=1,\n",
       "       colsample_bytree=1, gamma=0, learning_rate=0.1, max_delta_step=0,\n",
       "       max_depth=3, min_child_weight=1, missing=None, n_estimators=100,\n",
       "       n_jobs=1, nthread=None, objective='binary:logistic', random_state=0,\n",
       "       reg_alpha=0, reg_lambda=1, scale_pos_weight=1, seed=None,\n",
       "       silent=True, subsample=1)"
      ]
     },
     "execution_count": 36,
     "metadata": {},
     "output_type": "execute_result"
    },
    {
     "name": "stdout",
     "output_type": "stream",
     "text": [
      "Thresh=0.053, n=6, Accuracy: 78.40%\n"
     ]
    },
    {
     "data": {
      "text/plain": [
       "XGBClassifier(base_score=0.5, booster='gbtree', colsample_bylevel=1,\n",
       "       colsample_bytree=1, gamma=0, learning_rate=0.1, max_delta_step=0,\n",
       "       max_depth=3, min_child_weight=1, missing=None, n_estimators=100,\n",
       "       n_jobs=1, nthread=None, objective='binary:logistic', random_state=0,\n",
       "       reg_alpha=0, reg_lambda=1, scale_pos_weight=1, seed=None,\n",
       "       silent=True, subsample=1)"
      ]
     },
     "execution_count": 36,
     "metadata": {},
     "output_type": "execute_result"
    },
    {
     "name": "stdout",
     "output_type": "stream",
     "text": [
      "Thresh=0.055, n=5, Accuracy: 78.40%\n"
     ]
    },
    {
     "data": {
      "text/plain": [
       "XGBClassifier(base_score=0.5, booster='gbtree', colsample_bylevel=1,\n",
       "       colsample_bytree=1, gamma=0, learning_rate=0.1, max_delta_step=0,\n",
       "       max_depth=3, min_child_weight=1, missing=None, n_estimators=100,\n",
       "       n_jobs=1, nthread=None, objective='binary:logistic', random_state=0,\n",
       "       reg_alpha=0, reg_lambda=1, scale_pos_weight=1, seed=None,\n",
       "       silent=True, subsample=1)"
      ]
     },
     "execution_count": 36,
     "metadata": {},
     "output_type": "execute_result"
    },
    {
     "name": "stdout",
     "output_type": "stream",
     "text": [
      "Thresh=0.063, n=4, Accuracy: 78.43%\n"
     ]
    },
    {
     "data": {
      "text/plain": [
       "XGBClassifier(base_score=0.5, booster='gbtree', colsample_bylevel=1,\n",
       "       colsample_bytree=1, gamma=0, learning_rate=0.1, max_delta_step=0,\n",
       "       max_depth=3, min_child_weight=1, missing=None, n_estimators=100,\n",
       "       n_jobs=1, nthread=None, objective='binary:logistic', random_state=0,\n",
       "       reg_alpha=0, reg_lambda=1, scale_pos_weight=1, seed=None,\n",
       "       silent=True, subsample=1)"
      ]
     },
     "execution_count": 36,
     "metadata": {},
     "output_type": "execute_result"
    },
    {
     "name": "stdout",
     "output_type": "stream",
     "text": [
      "Thresh=0.077, n=3, Accuracy: 78.49%\n"
     ]
    },
    {
     "data": {
      "text/plain": [
       "XGBClassifier(base_score=0.5, booster='gbtree', colsample_bylevel=1,\n",
       "       colsample_bytree=1, gamma=0, learning_rate=0.1, max_delta_step=0,\n",
       "       max_depth=3, min_child_weight=1, missing=None, n_estimators=100,\n",
       "       n_jobs=1, nthread=None, objective='binary:logistic', random_state=0,\n",
       "       reg_alpha=0, reg_lambda=1, scale_pos_weight=1, seed=None,\n",
       "       silent=True, subsample=1)"
      ]
     },
     "execution_count": 36,
     "metadata": {},
     "output_type": "execute_result"
    },
    {
     "name": "stdout",
     "output_type": "stream",
     "text": [
      "Thresh=0.083, n=2, Accuracy: 78.46%\n"
     ]
    },
    {
     "data": {
      "text/plain": [
       "XGBClassifier(base_score=0.5, booster='gbtree', colsample_bylevel=1,\n",
       "       colsample_bytree=1, gamma=0, learning_rate=0.1, max_delta_step=0,\n",
       "       max_depth=3, min_child_weight=1, missing=None, n_estimators=100,\n",
       "       n_jobs=1, nthread=None, objective='binary:logistic', random_state=0,\n",
       "       reg_alpha=0, reg_lambda=1, scale_pos_weight=1, seed=None,\n",
       "       silent=True, subsample=1)"
      ]
     },
     "execution_count": 36,
     "metadata": {},
     "output_type": "execute_result"
    },
    {
     "name": "stdout",
     "output_type": "stream",
     "text": [
      "Thresh=0.195, n=1, Accuracy: 78.47%\n"
     ]
    }
   ],
   "source": [
    "model = XGBClassifier()\n",
    "model.fit(X_train, y_train)\n",
    "\n",
    "# make predictions for test data and evaluate\n",
    "\n",
    "y_pred = model.predict(X_test)\n",
    "\n",
    "predictions = [round(value) for value in y_pred]\n",
    "accuracy = accuracy_score(y_test, predictions)\n",
    "print(\"Accuracy: %.2f%%\" % (accuracy * 100.0))\n",
    "# Fit model using each importance as a threshold\n",
    "thresholds = sort(model.feature_importances_)\n",
    "for thresh in thresholds:\n",
    "\t# select features using threshold\n",
    "\tselection = SelectFromModel(model, threshold=thresh, prefit=True)\n",
    "\tselect_X_train = selection.transform(X_train)\n",
    "\t# train model\n",
    "\tselection_model = XGBClassifier()\n",
    "\tselection_model.fit(select_X_train, y_train)\n",
    "\t# eval model\n",
    "\tselect_X_test = selection.transform(X_test)\n",
    "\ty_pred = selection_model.predict(select_X_test)\n",
    "\tpredictions = [round(value) for value in y_pred]\n",
    "\taccuracy = accuracy_score(y_test, predictions)\n",
    "\tprint(\"Thresh=%.3f, n=%d, Accuracy: %.2f%%\" % (thresh, select_X_train.shape[1], accuracy*100.0))\n"
   ]
  },
  {
   "cell_type": "code",
   "execution_count": null,
   "metadata": {},
   "outputs": [],
   "source": []
  }
 ],
 "metadata": {
  "kernelspec": {
   "display_name": "Python 3",
   "language": "python",
   "name": "python3"
  },
  "language_info": {
   "codemirror_mode": {
    "name": "ipython",
    "version": 3
   },
   "file_extension": ".py",
   "mimetype": "text/x-python",
   "name": "python",
   "nbconvert_exporter": "python",
   "pygments_lexer": "ipython3",
   "version": "3.7.2"
  }
 },
 "nbformat": 4,
 "nbformat_minor": 2
}
